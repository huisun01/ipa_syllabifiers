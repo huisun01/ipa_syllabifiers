{
 "cells": [
  {
   "cell_type": "markdown",
   "metadata": {},
   "source": [
    "# IPA-based syllabification of Polish texts"
   ]
  },
  {
   "cell_type": "markdown",
   "metadata": {},
   "source": [
    "## I. Preliminary steps"
   ]
  },
  {
   "cell_type": "markdown",
   "metadata": {},
   "source": [
    "### Import necessary libraries and set up the working directory"
   ]
  },
  {
   "cell_type": "code",
   "execution_count": 1,
   "metadata": {},
   "outputs": [],
   "source": [
    "### Necessary libraries\n",
    "import os \n",
    "import pandas as pd\n",
    "import IPython # To be able to run magic commands within Jupyter\n",
    "from pyndl import preprocess\n",
    "import regex\n",
    "import gzip\n",
    "\n",
    "### Set working directory\n",
    "TOP = '/media/sf_PostDoc_ooominds/Programming/Syllabifiers_repo/'\n",
    "WD = '/media/sf_PostDoc_ooominds/Programming/Syllabifiers_repo/package/'\n",
    "os.chdir(WD)\n",
    "\n",
    "### Import the local 'syllabifier_ipa' package \n",
    "import syllabifiers.ipa as sy\n",
    "\n",
    "# Display option for dataframes\n",
    "pd.set_option('display.max_colwidth', 100) # Max width of columns when dispalying datasets\n",
    "PREVIOUS_MAX_ROWS = pd.options.display.max_rows\n",
    "pd.options.display.max_rows = 20"
   ]
  },
  {
   "cell_type": "markdown",
   "metadata": {},
   "source": [
    "### Define file paths"
   ]
  },
  {
   "cell_type": "code",
   "execution_count": 2,
   "metadata": {},
   "outputs": [],
   "source": [
    "# List of Enlish words and sentences\n",
    "POLISH_WORDS = TOP + \"illustrative_examples/Data_pol/Polish_words.csv\"\n",
    "POLISH_SENTS = TOP + \"illustrative_examples/Data_pol/Polish_sentences.csv\"\n",
    "# Main corpus: a sample of 1000 sentences from the Araneum corpus\n",
    "CORPUS_POL =  TOP + 'illustrative_examples/Data_pol/Araneum_NoTags_1Ksample.txt' \n",
    "# locations of the event files that will be created after the different simulations\n",
    "S2L_EVENTS_POL = TOP + 'illustrative_examples/Results_pol/S2L_events_pol.gz'"
   ]
  },
  {
   "cell_type": "markdown",
   "metadata": {},
   "source": [
    "### Define some useful variables for later"
   ]
  },
  {
   "cell_type": "code",
   "execution_count": 3,
   "metadata": {},
   "outputs": [],
   "source": [
    "### Set of allowed Polish characters\n",
    "POLISH = \"aąbcćdeęfghijklłmnńoóprsśtuwyzźżqvx\"\n",
    "POLISH = POLISH + POLISH.upper()\n",
    "\n",
    "### Compiled regular expression that detects syllabic patterns for Polish\n",
    "syllable_pattern_pol = sy.regex_pol_ipa()\n",
    "\n",
    "# Compiled regular expression that detects disallowed Polish characters\n",
    "not_symbol_pattern_pol = regex.compile(f\"[^{POLISH}]\")"
   ]
  },
  {
   "cell_type": "markdown",
   "metadata": {},
   "source": [
    "## II. Transcription to IPA"
   ]
  },
  {
   "cell_type": "code",
   "execution_count": 5,
   "metadata": {},
   "outputs": [
    {
     "data": {
      "text/plain": [
       "'kɔbjɛta'"
      ]
     },
     "execution_count": 5,
     "metadata": {},
     "output_type": "execute_result"
    }
   ],
   "source": [
    "# Test 1 \n",
    "sy.polish_to_ipa('kobieta')"
   ]
  },
  {
   "cell_type": "code",
   "execution_count": 6,
   "metadata": {
    "scrolled": true
   },
   "outputs": [
    {
     "data": {
      "text/plain": [
       "'mɛ̃ʐt͡ʂɨzna'"
      ]
     },
     "execution_count": 6,
     "metadata": {},
     "output_type": "execute_result"
    }
   ],
   "source": [
    "# Test 2\n",
    "sy.polish_to_ipa('mężczyzna')"
   ]
  },
  {
   "cell_type": "markdown",
   "metadata": {},
   "source": [
    "## III. Syllabification of a list of words"
   ]
  },
  {
   "cell_type": "markdown",
   "metadata": {},
   "source": [
    "### Test the function that syllabifies a single word"
   ]
  },
  {
   "cell_type": "code",
   "execution_count": 7,
   "metadata": {},
   "outputs": [
    {
     "name": "stdout",
     "output_type": "stream",
     "text": [
      "- Word: abażur\n",
      "- IPA transcription: abaʐur\n",
      "- Syllabic cues: #ab_baʐ_ʐur#\n",
      "\n"
     ]
    }
   ],
   "source": [
    "# Test 1\n",
    "s = '''- Word: {word}\n",
    "- IPA transcription: {ipa}\n",
    "- Syllabic cues: {syl}\n",
    "'''.format(word = 'abażur', \n",
    "           ipa = sy.polish_to_ipa(\"abażur\"), \n",
    "           syl = sy.syllabify(word = \"abażur\", \n",
    "                              ipa_converter = sy.polish_to_ipa, \n",
    "                              syllable_pattern = syllable_pattern_pol,\n",
    "                              add_boundaries = True))\n",
    "print(s)"
   ]
  },
  {
   "cell_type": "code",
   "execution_count": 8,
   "metadata": {},
   "outputs": [
    {
     "name": "stdout",
     "output_type": "stream",
     "text": [
      "- Word: Następstwa\n",
      "- IPA transcription: nastɛmpstva\n",
      "- Syllabic cues: #nast_stɛmpstv_mpstva#\n",
      "\n"
     ]
    }
   ],
   "source": [
    "# Test 2\n",
    "s = '''- Word: {word}\n",
    "- IPA transcription: {ipa}\n",
    "- Syllabic cues: {syl}\n",
    "'''.format(word = 'Następstwa', \n",
    "           ipa = sy.polish_to_ipa(\"Następstwa\"), \n",
    "           syl = sy.syllabify(word = \"Następstwa\", \n",
    "                              ipa_converter = sy.polish_to_ipa, \n",
    "                              syllable_pattern = syllable_pattern_pol,\n",
    "                              add_boundaries = True))\n",
    "print(s)"
   ]
  },
  {
   "cell_type": "code",
   "execution_count": 9,
   "metadata": {},
   "outputs": [
    {
     "name": "stdout",
     "output_type": "stream",
     "text": [
      "- Word: Szczęście\n",
      "- IPA transcription: ʂt͡ʂɛ̃ɕt͡ɕɛ\n",
      "- Syllabic cues: #ʂt͡ʂɛ̃ɕt͡ɕ_ɕt͡ɕɛ#\n",
      "\n"
     ]
    }
   ],
   "source": [
    "# Test 3\n",
    "s = '''- Word: {word}\n",
    "- IPA transcription: {ipa}\n",
    "- Syllabic cues: {syl}\n",
    "'''.format(word = 'Szczęście', \n",
    "           ipa = sy.polish_to_ipa(\"Szczęście\"), \n",
    "           syl = sy.syllabify(word = \"Szczęście\", \n",
    "                              ipa_converter = sy.polish_to_ipa, \n",
    "                              syllable_pattern = syllable_pattern_pol,\n",
    "                              add_boundaries = True))\n",
    "print(s)"
   ]
  },
  {
   "cell_type": "markdown",
   "metadata": {},
   "source": [
    "### Syllabify a list of Polish words"
   ]
  },
  {
   "cell_type": "code",
   "execution_count": 10,
   "metadata": {
    "scrolled": false
   },
   "outputs": [
    {
     "data": {
      "text/html": [
       "<div>\n",
       "<style scoped>\n",
       "    .dataframe tbody tr th:only-of-type {\n",
       "        vertical-align: middle;\n",
       "    }\n",
       "\n",
       "    .dataframe tbody tr th {\n",
       "        vertical-align: top;\n",
       "    }\n",
       "\n",
       "    .dataframe thead th {\n",
       "        text-align: right;\n",
       "    }\n",
       "</style>\n",
       "<table border=\"1\" class=\"dataframe\">\n",
       "  <thead>\n",
       "    <tr style=\"text-align: right;\">\n",
       "      <th></th>\n",
       "      <th>Word</th>\n",
       "    </tr>\n",
       "  </thead>\n",
       "  <tbody>\n",
       "    <tr>\n",
       "      <th>0</th>\n",
       "      <td>abandon</td>\n",
       "    </tr>\n",
       "    <tr>\n",
       "      <th>1</th>\n",
       "      <td>abażur</td>\n",
       "    </tr>\n",
       "    <tr>\n",
       "      <th>2</th>\n",
       "      <td>abonament</td>\n",
       "    </tr>\n",
       "    <tr>\n",
       "      <th>3</th>\n",
       "      <td>absolutyzm</td>\n",
       "    </tr>\n",
       "    <tr>\n",
       "      <th>4</th>\n",
       "      <td>absorber</td>\n",
       "    </tr>\n",
       "  </tbody>\n",
       "</table>\n",
       "</div>"
      ],
      "text/plain": [
       "         Word\n",
       "0     abandon\n",
       "1      abażur\n",
       "2   abonament\n",
       "3  absolutyzm\n",
       "4    absorber"
      ]
     },
     "execution_count": 10,
     "metadata": {},
     "output_type": "execute_result"
    }
   ],
   "source": [
    "# Import the list as a pandas dataframe\n",
    "Words = pd.read_csv(POLISH_WORDS, names = ['Word'])\n",
    "Words.head()"
   ]
  },
  {
   "cell_type": "code",
   "execution_count": 11,
   "metadata": {
    "scrolled": false
   },
   "outputs": [
    {
     "data": {
      "text/html": [
       "<div>\n",
       "<style scoped>\n",
       "    .dataframe tbody tr th:only-of-type {\n",
       "        vertical-align: middle;\n",
       "    }\n",
       "\n",
       "    .dataframe tbody tr th {\n",
       "        vertical-align: top;\n",
       "    }\n",
       "\n",
       "    .dataframe thead th {\n",
       "        text-align: right;\n",
       "    }\n",
       "</style>\n",
       "<table border=\"1\" class=\"dataframe\">\n",
       "  <thead>\n",
       "    <tr style=\"text-align: right;\">\n",
       "      <th></th>\n",
       "      <th>Word</th>\n",
       "      <th>IPA_transcription</th>\n",
       "      <th>syllabic_cues</th>\n",
       "    </tr>\n",
       "  </thead>\n",
       "  <tbody>\n",
       "    <tr>\n",
       "      <th>0</th>\n",
       "      <td>abandon</td>\n",
       "      <td>abandɔn</td>\n",
       "      <td>#ab_band_ndɔn#</td>\n",
       "    </tr>\n",
       "    <tr>\n",
       "      <th>1</th>\n",
       "      <td>abażur</td>\n",
       "      <td>abaʐur</td>\n",
       "      <td>#ab_baʐ_ʐur#</td>\n",
       "    </tr>\n",
       "    <tr>\n",
       "      <th>2</th>\n",
       "      <td>abonament</td>\n",
       "      <td>abɔnamɛnt</td>\n",
       "      <td>#ab_bɔn_nam_mɛnt#</td>\n",
       "    </tr>\n",
       "    <tr>\n",
       "      <th>3</th>\n",
       "      <td>absolutyzm</td>\n",
       "      <td>absɔlutɨzm</td>\n",
       "      <td>#abs_bsɔl_lut_tɨzm#</td>\n",
       "    </tr>\n",
       "    <tr>\n",
       "      <th>4</th>\n",
       "      <td>absorber</td>\n",
       "      <td>absɔrbɛr</td>\n",
       "      <td>#abs_bsɔrb_rbɛr#</td>\n",
       "    </tr>\n",
       "    <tr>\n",
       "      <th>5</th>\n",
       "      <td>absurd</td>\n",
       "      <td>absurd</td>\n",
       "      <td>#abs_bsurd#</td>\n",
       "    </tr>\n",
       "    <tr>\n",
       "      <th>6</th>\n",
       "      <td>absynt</td>\n",
       "      <td>absɨnt</td>\n",
       "      <td>#abs_bsɨnt#</td>\n",
       "    </tr>\n",
       "    <tr>\n",
       "      <th>7</th>\n",
       "      <td>aceton</td>\n",
       "      <td>at͡sɛtɔn</td>\n",
       "      <td>#at͡s_t͡sɛt_tɔn#</td>\n",
       "    </tr>\n",
       "    <tr>\n",
       "      <th>8</th>\n",
       "      <td>acetylen</td>\n",
       "      <td>at͡sɛtɨlɛn</td>\n",
       "      <td>#at͡s_t͡sɛt_tɨl_lɛn#</td>\n",
       "    </tr>\n",
       "    <tr>\n",
       "      <th>9</th>\n",
       "      <td>adamaszek</td>\n",
       "      <td>adamaʂɛk</td>\n",
       "      <td>#ad_dam_maʂ_ʂɛk#</td>\n",
       "    </tr>\n",
       "  </tbody>\n",
       "</table>\n",
       "</div>"
      ],
      "text/plain": [
       "         Word IPA_transcription         syllabic_cues\n",
       "0     abandon           abandɔn        #ab_band_ndɔn#\n",
       "1      abażur            abaʐur          #ab_baʐ_ʐur#\n",
       "2   abonament         abɔnamɛnt     #ab_bɔn_nam_mɛnt#\n",
       "3  absolutyzm        absɔlutɨzm   #abs_bsɔl_lut_tɨzm#\n",
       "4    absorber          absɔrbɛr      #abs_bsɔrb_rbɛr#\n",
       "5      absurd            absurd           #abs_bsurd#\n",
       "6      absynt            absɨnt           #abs_bsɨnt#\n",
       "7      aceton          at͡sɛtɔn      #at͡s_t͡sɛt_tɔn#\n",
       "8    acetylen        at͡sɛtɨlɛn  #at͡s_t͡sɛt_tɨl_lɛn#\n",
       "9   adamaszek          adamaʂɛk      #ad_dam_maʂ_ʂɛk#"
      ]
     },
     "execution_count": 11,
     "metadata": {},
     "output_type": "execute_result"
    }
   ],
   "source": [
    "# Apply it to the whole set\n",
    "Words['IPA_transcription'] = Words['Word'].apply(lambda x: sy.polish_to_ipa(x))\n",
    "Words['syllabic_cues'] = Words['Word'].apply(lambda x: sy.syllabify(x, sy.polish_to_ipa, syllable_pattern_pol))\n",
    "# Display the resulting dataset\n",
    "Words[:10]"
   ]
  },
  {
   "cell_type": "markdown",
   "metadata": {},
   "source": [
    "## IV. Syllabification of a list of sentences "
   ]
  },
  {
   "cell_type": "markdown",
   "metadata": {},
   "source": [
    "### Test the function that syllabifies a sentence"
   ]
  },
  {
   "cell_type": "code",
   "execution_count": 12,
   "metadata": {},
   "outputs": [
    {
     "name": "stdout",
     "output_type": "stream",
     "text": [
      "- Sentence: Uczyłem się polskiego przez 1 miesiąc\n",
      "- IPA transcription: ut͡ʂɨwɛm ɕɛ̃ pɔlskʲɛɡɔ pʐɛz 1 mjɛɕɔnt͡s\n",
      "- Syllabic cues: ['#ut͡ʂ_t͡ʂɨw_wɛm#', '#ɕɛ#', '#pɔlskʲ_lskʲɛɡ_ɡɔ#', '#pʐɛz#', '#mjɛɕ_ɕɔnt͡s#']\n",
      "\n"
     ]
    }
   ],
   "source": [
    "# Test 1 \n",
    "sent1 = \"Uczyłem się polskiego przez 1 miesiąc\" \n",
    "s = '''- Sentence: {sent}\n",
    "- IPA transcription: {ipa}\n",
    "- Syllabic cues: {syl}\n",
    "'''.format(sent = sent1, \n",
    "           ipa = sy.polish_to_ipa(sent1), \n",
    "           syl = sy.syllabify_line(line = sent1,\n",
    "                                   ipa_converter = sy.polish_to_ipa, \n",
    "                                   syllable_pattern = syllable_pattern_pol,\n",
    "                                   not_symbol_pattern = not_symbol_pattern_pol,\n",
    "                                   add_boundaries = True,\n",
    "                                   as_event = False))\n",
    "print(s)"
   ]
  },
  {
   "cell_type": "code",
   "execution_count": 13,
   "metadata": {},
   "outputs": [
    {
     "name": "stdout",
     "output_type": "stream",
     "text": [
      "- Sentence:   Miło cię  spotkać!\n",
      "- IPA transcription:   miwɔ t͡ɕɛ̃  spɔtkat͡ɕ!\n",
      "- Syllabic cues: ('#miw_wɔ#_#t͡ɕɛ#_#spɔtk_tkat͡ɕ#', 'miło_cię_spotkać')\n",
      "\n"
     ]
    }
   ],
   "source": [
    "# Test 2\n",
    "sent2 = \"  Miło cię  spotkać!\"\n",
    "s = '''- Sentence: {sent}\n",
    "- IPA transcription: {ipa}\n",
    "- Syllabic cues: {syl}\n",
    "'''.format(sent = sent2, \n",
    "           ipa = sy.polish_to_ipa(sent2), \n",
    "           syl = sy.syllabify_line(line = sent2,\n",
    "                                   ipa_converter = sy.polish_to_ipa, \n",
    "                                   syllable_pattern = syllable_pattern_pol,\n",
    "                                   not_symbol_pattern = not_symbol_pattern_pol,\n",
    "                                   add_boundaries = True,\n",
    "                                   as_event = True))\n",
    "print(s)"
   ]
  },
  {
   "cell_type": "code",
   "execution_count": 14,
   "metadata": {
    "scrolled": false
   },
   "outputs": [
    {
     "name": "stdout",
     "output_type": "stream",
     "text": [
      "- Sentence: dzisiejsza słowo pochodzi z ewangelii wg św .\n",
      "- IPA transcription: d͡ʑiɕɛjʂa swɔvɔ pɔxɔd͡ʑi z ɛvanɡɛlji vɡ ɕv .\n",
      "- Syllabic cues: ['#d͡ʑiɕ_ɕɛjʂ_jʂa#', '#swɔv_vɔ#', '#pɔx_xɔd͡ʑ_d͡ʑi#', '#z#', '#ɛv_vanɡ_nɡɛlj_lji#', '#vɡ#', '#ɕv#']\n",
      "\n"
     ]
    }
   ],
   "source": [
    "# Test 3\n",
    "sent3 = 'dzisiejsza słowo pochodzi z ewangelii wg św .'\n",
    "s = '''- Sentence: {sent}\n",
    "- IPA transcription: {ipa}\n",
    "- Syllabic cues: {syl}\n",
    "'''.format(sent = sent3, \n",
    "           ipa = sy.polish_to_ipa(sent3), \n",
    "           syl = sy.syllabify_line(line = sent3,\n",
    "                                   ipa_converter = sy.polish_to_ipa, \n",
    "                                   syllable_pattern = syllable_pattern_pol,\n",
    "                                   not_symbol_pattern = not_symbol_pattern_pol,\n",
    "                                   add_boundaries = True,\n",
    "                                   as_event = False))\n",
    "print(s)"
   ]
  },
  {
   "cell_type": "markdown",
   "metadata": {},
   "source": [
    "### Syllabify a set of Polish sentences"
   ]
  },
  {
   "cell_type": "code",
   "execution_count": 15,
   "metadata": {
    "scrolled": true
   },
   "outputs": [
    {
     "data": {
      "text/html": [
       "<div>\n",
       "<style scoped>\n",
       "    .dataframe tbody tr th:only-of-type {\n",
       "        vertical-align: middle;\n",
       "    }\n",
       "\n",
       "    .dataframe tbody tr th {\n",
       "        vertical-align: top;\n",
       "    }\n",
       "\n",
       "    .dataframe thead th {\n",
       "        text-align: right;\n",
       "    }\n",
       "</style>\n",
       "<table border=\"1\" class=\"dataframe\">\n",
       "  <thead>\n",
       "    <tr style=\"text-align: right;\">\n",
       "      <th></th>\n",
       "      <th>Sentence</th>\n",
       "    </tr>\n",
       "  </thead>\n",
       "  <tbody>\n",
       "    <tr>\n",
       "      <th>0</th>\n",
       "      <td>dzisiejsza słowo pochodzi z ewangelii wg św .</td>\n",
       "    </tr>\n",
       "    <tr>\n",
       "      <th>1</th>\n",
       "      <td>praktycznie wszyscy z użytkowników internetu posiadają swój adres poczty e-mail .</td>\n",
       "    </tr>\n",
       "    <tr>\n",
       "      <th>2</th>\n",
       "      <td>szczególnie jeśli chodzi o śniadania .</td>\n",
       "    </tr>\n",
       "    <tr>\n",
       "      <th>3</th>\n",
       "      <td>sprzęt taki działa ale na bardzo małe odległości .</td>\n",
       "    </tr>\n",
       "    <tr>\n",
       "      <th>4</th>\n",
       "      <td>tunezja poza idealną pogodą posiada również liczne budowle sakralne czy medyny .</td>\n",
       "    </tr>\n",
       "  </tbody>\n",
       "</table>\n",
       "</div>"
      ],
      "text/plain": [
       "                                                                            Sentence\n",
       "0                                      dzisiejsza słowo pochodzi z ewangelii wg św .\n",
       "1  praktycznie wszyscy z użytkowników internetu posiadają swój adres poczty e-mail .\n",
       "2                                             szczególnie jeśli chodzi o śniadania .\n",
       "3                                 sprzęt taki działa ale na bardzo małe odległości .\n",
       "4   tunezja poza idealną pogodą posiada również liczne budowle sakralne czy medyny ."
      ]
     },
     "execution_count": 15,
     "metadata": {},
     "output_type": "execute_result"
    }
   ],
   "source": [
    "# Import the list as a pandas dataframe\n",
    "Sentences = pd.read_csv(POLISH_SENTS)\n",
    "Sentences.head()"
   ]
  },
  {
   "cell_type": "code",
   "execution_count": 16,
   "metadata": {},
   "outputs": [
    {
     "data": {
      "text/html": [
       "<div>\n",
       "<style scoped>\n",
       "    .dataframe tbody tr th:only-of-type {\n",
       "        vertical-align: middle;\n",
       "    }\n",
       "\n",
       "    .dataframe tbody tr th {\n",
       "        vertical-align: top;\n",
       "    }\n",
       "\n",
       "    .dataframe thead th {\n",
       "        text-align: right;\n",
       "    }\n",
       "</style>\n",
       "<table border=\"1\" class=\"dataframe\">\n",
       "  <thead>\n",
       "    <tr style=\"text-align: right;\">\n",
       "      <th></th>\n",
       "      <th>Sentence</th>\n",
       "      <th>IPA_transcription</th>\n",
       "      <th>syllabic_cues</th>\n",
       "    </tr>\n",
       "  </thead>\n",
       "  <tbody>\n",
       "    <tr>\n",
       "      <th>0</th>\n",
       "      <td>dzisiejsza słowo pochodzi z ewangelii wg św .</td>\n",
       "      <td>d͡ʑiɕɛjʂa swɔvɔ pɔxɔd͡ʑi z ɛvanɡɛlji vɡ ɕv .</td>\n",
       "      <td>[#d͡ʑiɕ_ɕɛjʂ_jʂa#, #swɔv_vɔ#, #pɔx_xɔd͡ʑ_d͡ʑi#, #z#, #ɛv_vanɡ_nɡɛlj_lji#, #vɡ#, #ɕv#]</td>\n",
       "    </tr>\n",
       "    <tr>\n",
       "      <th>1</th>\n",
       "      <td>praktycznie wszyscy z użytkowników internetu posiadają swój adres poczty e-mail .</td>\n",
       "      <td>praktɨt͡ʂɲɛ vʂɨst͡sɨ z uʐɨtkɔvɲikuv intɛrnɛtu pɔɕadajɔ̃ svuj adrɛs pɔt͡ʂtɨ ɛ-majl .</td>\n",
       "      <td>[#prakt_ktɨt͡ʂɲ_t͡ʂɲɛ#, #vʂɨst͡s_st͡sɨ#, #z#, #uʐ_ʐɨtk_tkɔvɲ_vɲik_kuv#, #int_ntɛrn_rnɛt_tu#, #pɔ...</td>\n",
       "    </tr>\n",
       "    <tr>\n",
       "      <th>2</th>\n",
       "      <td>szczególnie jeśli chodzi o śniadania .</td>\n",
       "      <td>ʂt͡ʂɛɡulɲɛ jɛɕli xɔd͡ʑi ɔ ɕɲadaɲa .</td>\n",
       "      <td>[#ʂt͡ʂɛɡ_ɡulɲ_lɲɛ#, #jɛɕl_ɕli#, #xɔd͡ʑ_d͡ʑi#, #ɔ#, #ɕɲad_daɲ_ɲa#]</td>\n",
       "    </tr>\n",
       "    <tr>\n",
       "      <th>3</th>\n",
       "      <td>sprzęt taki działa ale na bardzo małe odległości .</td>\n",
       "      <td>spʐɛnt takʲi d͡ʑawa alɛ na bard͡zɔ mawɛ ɔdlɛɡwɔɕt͡ɕi .</td>\n",
       "      <td>[#spʐɛnt#, #takʲ_kʲi#, #d͡ʑaw_wa#, #al_lɛ#, #na#, #bard͡z_rd͡zɔ#, #maw_wɛ#, #ɔdl_dlɛɡw_ɡwɔɕt͡ɕ_ɕ...</td>\n",
       "    </tr>\n",
       "    <tr>\n",
       "      <th>4</th>\n",
       "      <td>tunezja poza idealną pogodą posiada również liczne budowle sakralne czy medyny .</td>\n",
       "      <td>tunɛzja pɔza idɛalnɔ̃ pɔɡɔdɔ̃ pɔɕada ruvɲɛʐ lit͡ʂnɛ budɔvlɛ sakralnɛ t͡ʂɨ mɛdɨnɨ .</td>\n",
       "      <td>[#tun_nɛzj_zja#, #pɔz_za#, #id_dɛ_aln_lnɔ̃#, #pɔɡ_ɡɔd_dɔ̃#, #pɔɕ_ɕad_da#, #ruvɲ_vɲɛʐ#, #lit͡ʂn_t...</td>\n",
       "    </tr>\n",
       "    <tr>\n",
       "      <th>5</th>\n",
       "      <td>jednakowoż nie masz zapewne jeszcze wiedzy z zakresu budownictwa , ale zaiste to nie takie skomp...</td>\n",
       "      <td>jɛdnakɔvɔʐ ɲɛ maʂ zapɛvnɛ jɛʂt͡ʂɛ vjɛd͡zɨ z zakrɛsu budɔvɲit͡stva , alɛ zajstɛ tɔ ɲɛ takʲɛ skɔmp...</td>\n",
       "      <td>[#jɛdn_dnak_kɔv_vɔʐ#, #ɲɛ#, #maʂ#, #zap_pɛvn_vnɛ#, #jɛʂt͡ʂ_ʂt͡ʂɛ#, #vjɛd͡z_d͡zɨ#, #z#, #zakr_krɛ...</td>\n",
       "    </tr>\n",
       "    <tr>\n",
       "      <th>6</th>\n",
       "      <td>bardzo luźny styl gwarantują marynarki sportowe bądź sweter męski recman .</td>\n",
       "      <td>bard͡zɔ luʑnɨ stɨl ɡvarantujɔ̃ marɨnarkʲi spɔrtɔvɛ bɔnd͡ʑ svɛtɛr mɛ̃skʲi rɛt͡sman .</td>\n",
       "      <td>[#bard͡z_rd͡zɔ#, #luʑn_ʑnɨ#, #stɨl#, #ɡvar_rant_ntuj_jɔ̃#, #mar_rɨn_narkʲ_rkʲi#, #spɔrt_rtɔv_vɛ#...</td>\n",
       "    </tr>\n",
       "    <tr>\n",
       "      <th>7</th>\n",
       "      <td>w sprawach spornych obowiązuje nasz regulamin .</td>\n",
       "      <td>v spravax spɔrnɨx ɔbɔvjɔ̃zujɛ naʂ rɛɡulamin .</td>\n",
       "      <td>[#v#, #sprav_vax#, #spɔrn_rnɨx#, #ɔb_bɔvj_vjɔ̃z_zuj_jɛ#, #naʂ#, #rɛɡ_ɡul_lam_min#]</td>\n",
       "    </tr>\n",
       "    <tr>\n",
       "      <th>8</th>\n",
       "      <td>ja nie mam żadnego zaufania do takich miejsc .</td>\n",
       "      <td>ja ɲɛ mam ʐadnɛɡɔ zavfaɲa dɔ takʲix mjɛjst͡s .</td>\n",
       "      <td>[#ja#, #ɲɛ#, #mam#, #ʐadn_dnɛɡ_ɡɔ#, #zavf_vfaɲ_ɲa#, #dɔ#, #takʲ_kʲix#, #mjɛjst͡s#]</td>\n",
       "    </tr>\n",
       "    <tr>\n",
       "      <th>9</th>\n",
       "      <td>jak wszystkie ofiary mają jeden mianownik ..</td>\n",
       "      <td>jak vʂɨstkʲɛ ɔfjarɨ majɔ̃ jɛdɛn mjanɔvɲik ..</td>\n",
       "      <td>[#jak#, #vʂɨstkʲ_stkʲɛ#, #ɔfj_fjar_rɨ#, #maj_jɔ̃#, #jɛd_dɛn#, #mjan_nɔvɲ_vɲik#]</td>\n",
       "    </tr>\n",
       "    <tr>\n",
       "      <th>10</th>\n",
       "      <td>jednakże w interpretacji dalszego rozwoju dogmatu dochodzimy do konkluzji dokładnie przeciwnej n...</td>\n",
       "      <td>jɛdnakʐɛ v intɛrprɛtat͡sji dalʂɛɡɔ rɔzvɔju dɔɡmatu dɔxɔd͡ʑimɨ dɔ kɔnkluzji dɔkwadɲɛ pʐɛt͡ɕivnɛj ...</td>\n",
       "      <td>[#jɛdn_dnakʐ_kʐɛ#, #v#, #int_ntɛrpr_rprɛt_tat͡sj_t͡sji#, #dalʂ_lʂɛɡ_ɡɔ#, #rɔzv_zvɔj_ju#, #dɔɡm_ɡ...</td>\n",
       "    </tr>\n",
       "    <tr>\n",
       "      <th>11</th>\n",
       "      <td>wynika to z analizy biblijnej .</td>\n",
       "      <td>vɨɲika tɔ z analizɨ biblijnɛj .</td>\n",
       "      <td>[#vɨɲ_ɲik_ka#, #tɔ#, #z#, #an_nal_liz_zɨ#, #bibl_blijn_jnɛj#]</td>\n",
       "    </tr>\n",
       "    <tr>\n",
       "      <th>12</th>\n",
       "      <td>wymaga sporo samodyscypliny .</td>\n",
       "      <td>vɨmaɡa spɔrɔ samɔdɨst͡sɨplinɨ .</td>\n",
       "      <td>[#vɨm_maɡ_ɡa#, #spɔr_rɔ#, #sam_mɔd_dɨst͡s_st͡sɨpl_plin_nɨ#]</td>\n",
       "    </tr>\n",
       "    <tr>\n",
       "      <th>13</th>\n",
       "      <td>chrystus uświęca swą obecnością wszystkie ludzkie miejsca życia .</td>\n",
       "      <td>xrɨstus uɕvjɛnt͡sa svɔ̃ ɔbɛt͡snɔɕt͡ɕɔ̃ vʂɨstkʲɛ lud͡zkʲɛ mjɛjst͡sa ʐɨt͡ɕa .</td>\n",
       "      <td>[#xrɨst_stus#, #uɕvj_ɕvjɛnt͡s_nt͡sa#, #svɔ̃#, #ɔb_bɛt͡sn_t͡snɔɕt͡ɕ_ɕt͡ɕɔ̃#, #vʂɨstkʲ_stkʲɛ#, #lu...</td>\n",
       "    </tr>\n",
       "    <tr>\n",
       "      <th>14</th>\n",
       "      <td>ktoś ma jakiś pomysł ?</td>\n",
       "      <td>ktɔɕ ma jakʲiɕ pɔmɨsw ?</td>\n",
       "      <td>[#ktɔɕ#, #ma#, #jakʲ_kʲiɕ#, #pɔm_mɨsw#]</td>\n",
       "    </tr>\n",
       "    <tr>\n",
       "      <th>15</th>\n",
       "      <td>pozdrawiam serdecznie , jarek</td>\n",
       "      <td>pɔzdravjam sɛrdɛt͡ʂɲɛ , jarɛk</td>\n",
       "      <td>[#pɔzdr_zdravj_vjam#, #sɛrd_rdɛt͡ʂɲ_t͡ʂɲɛ#, #jar_rɛk#]</td>\n",
       "    </tr>\n",
       "    <tr>\n",
       "      <th>16</th>\n",
       "      <td>książka prezentuje szeroki zakres wiedzy z dziedziny genetyki zwierząt .</td>\n",
       "      <td>kɕɔ̃ʐka prɛzɛntujɛ ʂɛrɔkʲi zakrɛs vjɛd͡zɨ z d͡ʑɛd͡ʑinɨ ɡɛnɛtɨkʲi zvjɛʐɔnt .</td>\n",
       "      <td>[#kɕɔ̃ʐk_ʐka#, #prɛz_zɛnt_ntuj_jɛ#, #ʂɛr_rɔkʲ_kʲi#, #zakr_krɛs#, #vjɛd͡z_d͡zɨ#, #z#, #d͡ʑɛd͡ʑ_d͡...</td>\n",
       "    </tr>\n",
       "    <tr>\n",
       "      <th>17</th>\n",
       "      <td>co do innych miejsc polecam tramwaj .</td>\n",
       "      <td>t͡sɔ dɔ innɨx mjɛjst͡s pɔlɛt͡sam tramvaj .</td>\n",
       "      <td>[#t͡sɔ#, #dɔ#, #inn_nnɨx#, #mjɛjst͡s#, #pɔl_lɛt͡s_t͡sam#, #tramv_mvaj#]</td>\n",
       "    </tr>\n",
       "    <tr>\n",
       "      <th>18</th>\n",
       "      <td>po tym jak zgaśnie bez problemu odpala ponownie .</td>\n",
       "      <td>pɔ tɨm jak zɡaɕɲɛ bɛz prɔblɛmu ɔdpala pɔnɔvɲɛ .</td>\n",
       "      <td>[#pɔ#, #tɨm#, #jak#, #zɡaɕɲ_ɕɲɛ#, #bɛz#, #prɔbl_blɛm_mu#, #ɔdp_dpal_la#, #pɔn_nɔvɲ_vɲɛ#]</td>\n",
       "    </tr>\n",
       "    <tr>\n",
       "      <th>19</th>\n",
       "      <td>tramwaj przenosi nie tylko willę</td>\n",
       "      <td>tramvaj pʐɛnɔɕi ɲɛ tɨlkɔ villɛ</td>\n",
       "      <td>[#tramv_mvaj#, #pʐɛn_nɔɕ_ɕi#, #ɲɛ#, #tɨlk_lkɔ#, #vill_llɛ#]</td>\n",
       "    </tr>\n",
       "  </tbody>\n",
       "</table>\n",
       "</div>"
      ],
      "text/plain": [
       "                                                                                               Sentence  \\\n",
       "0                                                         dzisiejsza słowo pochodzi z ewangelii wg św .   \n",
       "1                     praktycznie wszyscy z użytkowników internetu posiadają swój adres poczty e-mail .   \n",
       "2                                                                szczególnie jeśli chodzi o śniadania .   \n",
       "3                                                    sprzęt taki działa ale na bardzo małe odległości .   \n",
       "4                      tunezja poza idealną pogodą posiada również liczne budowle sakralne czy medyny .   \n",
       "5   jednakowoż nie masz zapewne jeszcze wiedzy z zakresu budownictwa , ale zaiste to nie takie skomp...   \n",
       "6                            bardzo luźny styl gwarantują marynarki sportowe bądź sweter męski recman .   \n",
       "7                                                       w sprawach spornych obowiązuje nasz regulamin .   \n",
       "8                                                        ja nie mam żadnego zaufania do takich miejsc .   \n",
       "9                                                          jak wszystkie ofiary mają jeden mianownik ..   \n",
       "10  jednakże w interpretacji dalszego rozwoju dogmatu dochodzimy do konkluzji dokładnie przeciwnej n...   \n",
       "11                                                                      wynika to z analizy biblijnej .   \n",
       "12                                                                        wymaga sporo samodyscypliny .   \n",
       "13                                    chrystus uświęca swą obecnością wszystkie ludzkie miejsca życia .   \n",
       "14                                                                               ktoś ma jakiś pomysł ?   \n",
       "15                                                                        pozdrawiam serdecznie , jarek   \n",
       "16                             książka prezentuje szeroki zakres wiedzy z dziedziny genetyki zwierząt .   \n",
       "17                                                                co do innych miejsc polecam tramwaj .   \n",
       "18                                                    po tym jak zgaśnie bez problemu odpala ponownie .   \n",
       "19                                                                     tramwaj przenosi nie tylko willę   \n",
       "\n",
       "                                                                                      IPA_transcription  \\\n",
       "0                                                          d͡ʑiɕɛjʂa swɔvɔ pɔxɔd͡ʑi z ɛvanɡɛlji vɡ ɕv .   \n",
       "1                   praktɨt͡ʂɲɛ vʂɨst͡sɨ z uʐɨtkɔvɲikuv intɛrnɛtu pɔɕadajɔ̃ svuj adrɛs pɔt͡ʂtɨ ɛ-majl .   \n",
       "2                                                                   ʂt͡ʂɛɡulɲɛ jɛɕli xɔd͡ʑi ɔ ɕɲadaɲa .   \n",
       "3                                                spʐɛnt takʲi d͡ʑawa alɛ na bard͡zɔ mawɛ ɔdlɛɡwɔɕt͡ɕi .   \n",
       "4                    tunɛzja pɔza idɛalnɔ̃ pɔɡɔdɔ̃ pɔɕada ruvɲɛʐ lit͡ʂnɛ budɔvlɛ sakralnɛ t͡ʂɨ mɛdɨnɨ .   \n",
       "5   jɛdnakɔvɔʐ ɲɛ maʂ zapɛvnɛ jɛʂt͡ʂɛ vjɛd͡zɨ z zakrɛsu budɔvɲit͡stva , alɛ zajstɛ tɔ ɲɛ takʲɛ skɔmp...   \n",
       "6                   bard͡zɔ luʑnɨ stɨl ɡvarantujɔ̃ marɨnarkʲi spɔrtɔvɛ bɔnd͡ʑ svɛtɛr mɛ̃skʲi rɛt͡sman .   \n",
       "7                                                         v spravax spɔrnɨx ɔbɔvjɔ̃zujɛ naʂ rɛɡulamin .   \n",
       "8                                                        ja ɲɛ mam ʐadnɛɡɔ zavfaɲa dɔ takʲix mjɛjst͡s .   \n",
       "9                                                          jak vʂɨstkʲɛ ɔfjarɨ majɔ̃ jɛdɛn mjanɔvɲik ..   \n",
       "10  jɛdnakʐɛ v intɛrprɛtat͡sji dalʂɛɡɔ rɔzvɔju dɔɡmatu dɔxɔd͡ʑimɨ dɔ kɔnkluzji dɔkwadɲɛ pʐɛt͡ɕivnɛj ...   \n",
       "11                                                                      vɨɲika tɔ z analizɨ biblijnɛj .   \n",
       "12                                                                      vɨmaɡa spɔrɔ samɔdɨst͡sɨplinɨ .   \n",
       "13                          xrɨstus uɕvjɛnt͡sa svɔ̃ ɔbɛt͡snɔɕt͡ɕɔ̃ vʂɨstkʲɛ lud͡zkʲɛ mjɛjst͡sa ʐɨt͡ɕa .   \n",
       "14                                                                              ktɔɕ ma jakʲiɕ pɔmɨsw ?   \n",
       "15                                                                        pɔzdravjam sɛrdɛt͡ʂɲɛ , jarɛk   \n",
       "16                          kɕɔ̃ʐka prɛzɛntujɛ ʂɛrɔkʲi zakrɛs vjɛd͡zɨ z d͡ʑɛd͡ʑinɨ ɡɛnɛtɨkʲi zvjɛʐɔnt .   \n",
       "17                                                           t͡sɔ dɔ innɨx mjɛjst͡s pɔlɛt͡sam tramvaj .   \n",
       "18                                                      pɔ tɨm jak zɡaɕɲɛ bɛz prɔblɛmu ɔdpala pɔnɔvɲɛ .   \n",
       "19                                                                       tramvaj pʐɛnɔɕi ɲɛ tɨlkɔ villɛ   \n",
       "\n",
       "                                                                                          syllabic_cues  \n",
       "0                 [#d͡ʑiɕ_ɕɛjʂ_jʂa#, #swɔv_vɔ#, #pɔx_xɔd͡ʑ_d͡ʑi#, #z#, #ɛv_vanɡ_nɡɛlj_lji#, #vɡ#, #ɕv#]  \n",
       "1   [#prakt_ktɨt͡ʂɲ_t͡ʂɲɛ#, #vʂɨst͡s_st͡sɨ#, #z#, #uʐ_ʐɨtk_tkɔvɲ_vɲik_kuv#, #int_ntɛrn_rnɛt_tu#, #pɔ...  \n",
       "2                                     [#ʂt͡ʂɛɡ_ɡulɲ_lɲɛ#, #jɛɕl_ɕli#, #xɔd͡ʑ_d͡ʑi#, #ɔ#, #ɕɲad_daɲ_ɲa#]  \n",
       "3   [#spʐɛnt#, #takʲ_kʲi#, #d͡ʑaw_wa#, #al_lɛ#, #na#, #bard͡z_rd͡zɔ#, #maw_wɛ#, #ɔdl_dlɛɡw_ɡwɔɕt͡ɕ_ɕ...  \n",
       "4   [#tun_nɛzj_zja#, #pɔz_za#, #id_dɛ_aln_lnɔ̃#, #pɔɡ_ɡɔd_dɔ̃#, #pɔɕ_ɕad_da#, #ruvɲ_vɲɛʐ#, #lit͡ʂn_t...  \n",
       "5   [#jɛdn_dnak_kɔv_vɔʐ#, #ɲɛ#, #maʂ#, #zap_pɛvn_vnɛ#, #jɛʂt͡ʂ_ʂt͡ʂɛ#, #vjɛd͡z_d͡zɨ#, #z#, #zakr_krɛ...  \n",
       "6   [#bard͡z_rd͡zɔ#, #luʑn_ʑnɨ#, #stɨl#, #ɡvar_rant_ntuj_jɔ̃#, #mar_rɨn_narkʲ_rkʲi#, #spɔrt_rtɔv_vɛ#...  \n",
       "7                    [#v#, #sprav_vax#, #spɔrn_rnɨx#, #ɔb_bɔvj_vjɔ̃z_zuj_jɛ#, #naʂ#, #rɛɡ_ɡul_lam_min#]  \n",
       "8                    [#ja#, #ɲɛ#, #mam#, #ʐadn_dnɛɡ_ɡɔ#, #zavf_vfaɲ_ɲa#, #dɔ#, #takʲ_kʲix#, #mjɛjst͡s#]  \n",
       "9                       [#jak#, #vʂɨstkʲ_stkʲɛ#, #ɔfj_fjar_rɨ#, #maj_jɔ̃#, #jɛd_dɛn#, #mjan_nɔvɲ_vɲik#]  \n",
       "10  [#jɛdn_dnakʐ_kʐɛ#, #v#, #int_ntɛrpr_rprɛt_tat͡sj_t͡sji#, #dalʂ_lʂɛɡ_ɡɔ#, #rɔzv_zvɔj_ju#, #dɔɡm_ɡ...  \n",
       "11                                        [#vɨɲ_ɲik_ka#, #tɔ#, #z#, #an_nal_liz_zɨ#, #bibl_blijn_jnɛj#]  \n",
       "12                                          [#vɨm_maɡ_ɡa#, #spɔr_rɔ#, #sam_mɔd_dɨst͡s_st͡sɨpl_plin_nɨ#]  \n",
       "13  [#xrɨst_stus#, #uɕvj_ɕvjɛnt͡s_nt͡sa#, #svɔ̃#, #ɔb_bɛt͡sn_t͡snɔɕt͡ɕ_ɕt͡ɕɔ̃#, #vʂɨstkʲ_stkʲɛ#, #lu...  \n",
       "14                                                              [#ktɔɕ#, #ma#, #jakʲ_kʲiɕ#, #pɔm_mɨsw#]  \n",
       "15                                               [#pɔzdr_zdravj_vjam#, #sɛrd_rdɛt͡ʂɲ_t͡ʂɲɛ#, #jar_rɛk#]  \n",
       "16  [#kɕɔ̃ʐk_ʐka#, #prɛz_zɛnt_ntuj_jɛ#, #ʂɛr_rɔkʲ_kʲi#, #zakr_krɛs#, #vjɛd͡z_d͡zɨ#, #z#, #d͡ʑɛd͡ʑ_d͡...  \n",
       "17                              [#t͡sɔ#, #dɔ#, #inn_nnɨx#, #mjɛjst͡s#, #pɔl_lɛt͡s_t͡sam#, #tramv_mvaj#]  \n",
       "18             [#pɔ#, #tɨm#, #jak#, #zɡaɕɲ_ɕɲɛ#, #bɛz#, #prɔbl_blɛm_mu#, #ɔdp_dpal_la#, #pɔn_nɔvɲ_vɲɛ#]  \n",
       "19                                          [#tramv_mvaj#, #pʐɛn_nɔɕ_ɕi#, #ɲɛ#, #tɨlk_lkɔ#, #vill_llɛ#]  "
      ]
     },
     "execution_count": 16,
     "metadata": {},
     "output_type": "execute_result"
    }
   ],
   "source": [
    "# Apply it to the whole set\n",
    "Sentences['IPA_transcription'] = Sentences['Sentence'].apply(lambda x: sy.polish_to_ipa(x))\n",
    "Sentences['syllabic_cues'] = Sentences['Sentence'].apply(lambda x: sy.syllabify_line(x, \n",
    "                                                                                     sy.polish_to_ipa, \n",
    "                                                                                     syllable_pattern_pol,\n",
    "                                                                                     not_symbol_pattern_pol,\n",
    "                                                                                     add_boundaries = True,\n",
    "                                                                                     as_event = False))\n",
    "# Display the resulting dataset\n",
    "Sentences[:20]"
   ]
  },
  {
   "cell_type": "markdown",
   "metadata": {},
   "source": [
    "## V. Creating event files with syllabic cues from a Polish corpus"
   ]
  },
  {
   "cell_type": "markdown",
   "metadata": {},
   "source": [
    "### Check the corpus"
   ]
  },
  {
   "cell_type": "code",
   "execution_count": 4,
   "metadata": {
    "scrolled": true
   },
   "outputs": [
    {
     "name": "stdout",
     "output_type": "stream",
     "text": [
      "Nadmierne napięcie grupy mięśni powoduje nieprawidłowe ustawienie w stawie . \n",
      "\n",
      "Mięśnie hipertoniczne mają tendencję do skracania się , co bywa jedną z przyczyn deformacji . \n",
      "\n",
      "Sama spastyczność nie powoduje zniekształceń , ale wywołuje ją brak równowagi między mięśniami spastycznymi a słabszymi antagonistami . \n",
      "\n",
      "Mięśnie przeciwdziałające mięśniom o wzmożonym napięciu pracują w niekorzystnej dla siebie sytuacji , będąc stale przez nie rozciągane . \n",
      "\n",
      "Nie mogą równoważyć ich siły i przez to wydają się wyraźnie słabsze . \n",
      "\n",
      "Z czasem rzeczywiście ulegają osłabieniu z powodu ich nieużywania . \n",
      "\n",
      "Koniecznie więc trzeba leczyć ten brak równowagi , zmniejszając spastyczność z jednej strony i wzmacniając mięśnie antagonistyczne . \n",
      "\n",
      "\n",
      "\n",
      "Mięśnie spastyczne nie są mięśniami porażonymi i mogą się kurczyć . \n",
      "\n"
     ]
    }
   ],
   "source": [
    "### Check the corpus\n",
    "with open(CORPUS_POL) as c:\n",
    "    for x in range(9):\n",
    "        print(next(c))"
   ]
  },
  {
   "cell_type": "markdown",
   "metadata": {},
   "source": [
    "### Run the syllabifier"
   ]
  },
  {
   "cell_type": "code",
   "execution_count": 5,
   "metadata": {
    "scrolled": true
   },
   "outputs": [
    {
     "name": "stdout",
     "output_type": "stream",
     "text": [
      "All processed in 0.0 minutes!tes\n"
     ]
    }
   ],
   "source": [
    "# Generate the S2L event file (will also produce the corresponding L2L event file)\n",
    "sy.syllabify_corpus(corpus_path = CORPUS_POL,\n",
    "                    event_file_path = S2L_EVENTS_POL,\n",
    "                    ipa_converter = sy.polish_to_ipa,\n",
    "                    syllable_pattern = syllable_pattern_pol,\n",
    "                    not_symbol_pattern = not_symbol_pattern_pol,\n",
    "                    add_boundaries = True,\n",
    "                    numcores = 8,\n",
    "                    chunksize = 125)"
   ]
  },
  {
   "cell_type": "markdown",
   "metadata": {},
   "source": [
    "### Check the event file with syllabic cues"
   ]
  },
  {
   "cell_type": "code",
   "execution_count": 6,
   "metadata": {
    "scrolled": true
   },
   "outputs": [
    {
     "name": "stdout",
     "output_type": "stream",
     "text": [
      "#nadmj_dmjɛrn_rnɛ#_#napj_pjɛnt͡ɕ_nt͡ɕɛ#_#ɡrup_pɨ#_#mjɛ̃ɕɲ_ɕɲi#_#pɔv_vɔd_duj_jɛ#_#ɲɛpr_prav_vidw_dwɔv_vɛ#_#ust_stavj_vjɛɲ_ɲɛ#_#v#_#stavj_vjɛ#\tnadmierne_napięcie_grupy_mięśni_powoduje_nieprawidłowe_ustawienie_w_stawie\n",
      "\n",
      "#mjɛ̃ɕɲ_ɕɲɛ#_#xip_pɛrt_rtɔɲ_ɲit͡ʂn_t͡ʂnɛ#_#maj_jɔ̃#_#tɛnd_ndɛnt͡sj_nt͡sjɛ#_#dɔ#_#skrat͡s_t͡saɲ_ɲa#_#ɕɛ#_#t͡sɔ#_#bɨv_va#_#jɛdn_dnɔ̃#_#z#_#pʐɨt͡ʂ_t͡ʂɨn#_#dɛf_fɔrm_rmat͡sj_t͡sji#\tmięśnie_hipertoniczne_mają_tendencję_do_skracania_się_co_bywa_jedną_z_przyczyn_deformacji\n",
      "\n",
      "#sam_ma#_#spast_stɨt͡ʂn_t͡ʂnɔɕt͡ɕ#_#ɲɛ#_#pɔv_vɔd_duj_jɛ#_#zɲɛkʂt_kʂtawt͡s_wt͡sɛɲ#_#al_lɛ#_#vɨv_vɔw_wuj_jɛ#_#jɔ̃#_#brak#_#ruvn_vnɔv_vaɡʲ_ɡʲi#_#mjɛnd͡z_nd͡zɨ#_#mjɛ̃ɕɲ_ɕɲam_mi#_#spast_stɨt͡ʂn_t͡ʂnɨm_mi#_#a#_#swabʂ_bʂɨm_mi#_#ant_ntaɡ_ɡɔɲ_ɲist_stam_mi#\tsama_spastyczność_nie_powoduje_zniekształceń_ale_wywołuje_ją_brak_równowagi_między_mięśniami_spastycznymi_a_słabszymi_antagonistami\n",
      "\n",
      "#mjɛ̃ɕɲ_ɕɲɛ#_#pʐɛt͡ɕ_t͡ɕivd͡ʑ_vd͡ʑaw_waj_jɔnt͡s_nt͡sɛ#_#mjɛ̃ɕɲ_ɕɲɔm#_#ɔ#_#vzmɔʐ_ʐɔn_nɨm#_#napj_pjɛnt͡ɕ_nt͡ɕu#_#prat͡s_t͡suj_jɔ̃#_#v#_#ɲɛk_kɔʐ_ʐɨstn_stnɛj#_#dla#_#ɕɛbj_bjɛ#_#sɨt_tu_at͡sj_t͡sji#_#bɛnd_ndɔnt͡s#_#stal_lɛ#_#pʐɛz#_#ɲɛ#_#rɔzt͡ɕ_zt͡ɕɔŋɡ_ŋɡan_nɛ#\tmięśnie_przeciwdziałające_mięśniom_o_wzmożonym_napięciu_pracują_w_niekorzystnej_dla_siebie_sytuacji_będąc_stale_przez_nie_rozciągane\n",
      "\n",
      "#ɲɛ#_#mɔɡ_ɡɔ̃#_#ruvn_vnɔv_vaʐ_ʐɨt͡ɕ#_#ix#_#ɕiw_wɨ#_#i#_#pʐɛz#_#tɔ#_#vɨd_daj_jɔ̃#_#ɕɛ#_#vɨr_raʑɲ_ʑɲɛ#_#swabʂ_bʂɛ#\tnie_mogą_równoważyć_ich_siły_i_przez_to_wydają_się_wyraźnie_słabsze\n",
      "\n",
      "#z#_#t͡ʂas_sɛm#_#ʐɛt͡ʂ_t͡ʂɨv_viɕt͡ɕ_ɕt͡ɕɛ#_#ul_lɛɡ_ɡaj_jɔ̃#_#ɔsw_swabj_bjɛɲ_ɲu#_#z#_#pɔv_vɔd_du#_#ix#_#ɲɛvʐ_vʐɨv_vaɲ_ɲa#\tz_czasem_rzeczywiście_ulegają_osłabieniu_z_powodu_ich_nieużywania\n",
      "\n",
      "#kɔɲ_ɲɛt͡ʂɲ_t͡ʂɲɛ#_#vjɛnt͡s#_#tʐɛb_ba#_#lɛt͡ʂ_t͡ʂɨt͡ɕ#_#tɛn#_#brak#_#ruvn_vnɔv_vaɡʲ_ɡʲi#_#zmɲɛjʂ_jʂaj_jɔnt͡s#_#spast_stɨt͡ʂn_t͡ʂnɔɕt͡ɕ#_#z#_#jɛdn_dnɛj#_#strɔn_nɨ#_#i#_#vzmat͡sɲ_t͡sɲaj_jɔnt͡s#_#mjɛ̃ɕɲ_ɕɲɛ#_#ant_ntaɡ_ɡɔɲ_ɲist_stɨt͡ʂn_t͡ʂnɛ#\tkoniecznie_więc_trzeba_leczyć_ten_brak_równowagi_zmniejszając_spastyczność_z_jednej_strony_i_wzmacniając_mięśnie_antagonistyczne\n",
      "\n",
      "\t\n",
      "\n",
      "#mjɛ̃ɕɲ_ɕɲɛ#_#spast_stɨt͡ʂn_t͡ʂnɛ#_#ɲɛ#_#sɔ̃#_#mjɛ̃ɕɲ_ɕɲam_mi#_#pɔr_raʐ_ʐɔn_nɨm_mi#_#i#_#mɔɡ_ɡɔ̃#_#ɕɛ#_#kurt͡ʂ_rt͡ʂɨt͡ɕ#\tmięśnie_spastyczne_nie_są_mięśniami_porażonymi_i_mogą_się_kurczyć\n",
      "\n",
      "#t͡sɔ#_#vjɛnt͡s_nt͡sɛj#_#t͡ʂɛ̃st_stɔ#_#ɲɛ#_#sɔ̃#_#mjɛ̃ɕɲ_ɕɲam_mi#_#ɕiln_lnɨm_mi#\tco_więcej_często_nie_są_mięśniami_silnymi\n",
      "\n"
     ]
    }
   ],
   "source": [
    "### Print the first 10 lines from the S2L event file \n",
    "with gzip.open(S2L_EVENTS_POL, 'rt', encoding='utf-8') as e:   \n",
    "    for x in range(10):\n",
    "        print(next(e))"
   ]
  }
 ],
 "metadata": {
  "kernelspec": {
   "display_name": "Python 3",
   "language": "python",
   "name": "python3"
  },
  "language_info": {
   "codemirror_mode": {
    "name": "ipython",
    "version": 3
   },
   "file_extension": ".py",
   "mimetype": "text/x-python",
   "name": "python",
   "nbconvert_exporter": "python",
   "pygments_lexer": "ipython3",
   "version": "3.7.2"
  }
 },
 "nbformat": 4,
 "nbformat_minor": 2
}

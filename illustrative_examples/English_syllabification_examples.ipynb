{
 "cells": [
  {
   "cell_type": "markdown",
   "metadata": {},
   "source": [
    "# IPA-based syllabification of English texts"
   ]
  },
  {
   "cell_type": "markdown",
   "metadata": {},
   "source": [
    "## I. Preliminary steps"
   ]
  },
  {
   "cell_type": "markdown",
   "metadata": {},
   "source": [
    "### Import necessary libraries and set up the working directory"
   ]
  },
  {
   "cell_type": "code",
   "execution_count": 2,
   "metadata": {},
   "outputs": [],
   "source": [
    "### Necessary libraries\n",
    "import os \n",
    "import pandas as pd\n",
    "import IPython # To be able to run magic commands within Jupyter\n",
    "from pyndl import preprocess\n",
    "import regex\n",
    "import gzip\n",
    "\n",
    "### Set working directory\n",
    "TOP = '/media/Syllabifiers_repo/'\n",
    "WD = '/media/Syllabifiers_repo/package/'\n",
    "os.chdir(WD)\n",
    "\n",
    "### Import the local 'syllabifier_ipa' package \n",
    "import syllabifiers.ipa as sy\n",
    "\n",
    "# Display option for dataframes\n",
    "pd.set_option('display.max_colwidth', 100) # Max width of columns when dispalying datasets\n",
    "PREVIOUS_MAX_ROWS = pd.options.display.max_rows\n",
    "pd.options.display.max_rows = 20"
   ]
  },
  {
   "cell_type": "markdown",
   "metadata": {},
   "source": [
    "### Define file paths"
   ]
  },
  {
   "cell_type": "code",
   "execution_count": 3,
   "metadata": {},
   "outputs": [],
   "source": [
    "# List of Enlish words and sentences\n",
    "ENGLISH_WORDS = TOP + \"illustrative_examples/Data_en/English_words.csv\"\n",
    "ENGLISH_SENTS = TOP + \"illustrative_examples/Data_en/English_sentences.csv\"\n",
    "# Main corpus: a sample of 1000 sentences from the BNC corpus\n",
    "CORPUS_EN =  TOP + 'illustrative_examples/Data_en/BNC_NoTags_1Ksample.txt' \n",
    "# locations of the event files that will be created after the different simulations\n",
    "S2L_EVENTS_EN = TOP + 'illustrative_examples/Results_en/S2L_events_en.gz'"
   ]
  },
  {
   "cell_type": "markdown",
   "metadata": {},
   "source": [
    "### Define some useful variables for later"
   ]
  },
  {
   "cell_type": "code",
   "execution_count": 4,
   "metadata": {},
   "outputs": [],
   "source": [
    "### Set of allowed English characters\n",
    "ENGLISH = \"abcdefghijklmnopqrstuvwxyz\"\n",
    "ENGLISH = ENGLISH + ENGLISH.upper()\n",
    "\n",
    "### Compiled regular expression that detects syllabic patterns for English\n",
    "syllable_pattern_en = sy.regex_en_ipa()\n",
    "\n",
    "# Compiled regular expression that detects disallowed English characters\n",
    "not_symbol_pattern_en = regex.compile(f\"[^{ENGLISH}]\")"
   ]
  },
  {
   "cell_type": "markdown",
   "metadata": {},
   "source": [
    "## II. Transcription to IPA"
   ]
  },
  {
   "cell_type": "code",
   "execution_count": 5,
   "metadata": {},
   "outputs": [
    {
     "data": {
      "text/plain": [
       "'ɪntəɹnæʃənəl'"
      ]
     },
     "execution_count": 5,
     "metadata": {},
     "output_type": "execute_result"
    }
   ],
   "source": [
    "# Test 1 \n",
    "sy.english_to_ipa('international')"
   ]
  },
  {
   "cell_type": "code",
   "execution_count": 6,
   "metadata": {
    "scrolled": true
   },
   "outputs": [
    {
     "data": {
      "text/plain": [
       "'ɔnlajn'"
      ]
     },
     "execution_count": 6,
     "metadata": {},
     "output_type": "execute_result"
    }
   ],
   "source": [
    "# Test 2\n",
    "sy.english_to_ipa('Online')"
   ]
  },
  {
   "cell_type": "markdown",
   "metadata": {},
   "source": [
    "## III. Syllabification of a list of words"
   ]
  },
  {
   "cell_type": "markdown",
   "metadata": {},
   "source": [
    "### Test the function that syllabifies a single word"
   ]
  },
  {
   "cell_type": "code",
   "execution_count": 7,
   "metadata": {},
   "outputs": [
    {
     "name": "stdout",
     "output_type": "stream",
     "text": [
      "- Word: calculation\n",
      "- IPA transcription: kælkjəlejʃən\n",
      "- Syllabic cues: #kælkj_lkjəl_lejʃ_ʃən#\n",
      "\n"
     ]
    }
   ],
   "source": [
    "# Test 1\n",
    "s = '''- Word: {word}\n",
    "- IPA transcription: {ipa}\n",
    "- Syllabic cues: {syl}\n",
    "'''.format(word = 'calculation', \n",
    "           ipa = sy.english_to_ipa(\"calculation\"), \n",
    "           syl = sy.syllabify(word = \"calculation\", \n",
    "                              ipa_converter = sy.english_to_ipa, \n",
    "                              syllable_pattern = syllable_pattern_en,\n",
    "                              add_boundaries = True))\n",
    "print(s)"
   ]
  },
  {
   "cell_type": "code",
   "execution_count": 24,
   "metadata": {},
   "outputs": [
    {
     "name": "stdout",
     "output_type": "stream",
     "text": [
      "- Word: sunny\n",
      "- IPA transcription: sʌni\n",
      "- Syllabic cues: #sʌn_ni#\n",
      "\n"
     ]
    }
   ],
   "source": [
    "# Test 2\n",
    "s = '''- Word: {word}\n",
    "- IPA transcription: {ipa}\n",
    "- Syllabic cues: {syl}\n",
    "'''.format(word = 'sunny', \n",
    "           ipa = sy.english_to_ipa(\"sunny\"), \n",
    "           syl = sy.syllabify(word = \"sunny\", \n",
    "                              ipa_converter = sy.english_to_ipa, \n",
    "                              syllable_pattern = syllable_pattern_en,\n",
    "                              add_boundaries = True))\n",
    "print(s)"
   ]
  },
  {
   "cell_type": "code",
   "execution_count": 25,
   "metadata": {},
   "outputs": [
    {
     "name": "stdout",
     "output_type": "stream",
     "text": [
      "- Word: sh\n",
      "- IPA transcription: ɛsejt͡ʃ\n",
      "- Syllabic cues: #ɛs_sejt͡ʃ#\n",
      "\n"
     ]
    }
   ],
   "source": [
    "# Test 3\n",
    "s = '''- Word: {word}\n",
    "- IPA transcription: {ipa}\n",
    "- Syllabic cues: {syl}\n",
    "'''.format(word = 'sh', \n",
    "           ipa = sy.english_to_ipa(\"sh\"), \n",
    "           syl = sy.syllabify(word = \"sh\", \n",
    "                              ipa_converter = sy.english_to_ipa, \n",
    "                              syllable_pattern = syllable_pattern_en,\n",
    "                              add_boundaries = True))\n",
    "print(s)"
   ]
  },
  {
   "cell_type": "markdown",
   "metadata": {},
   "source": [
    "### Syllabify a list of English words"
   ]
  },
  {
   "cell_type": "code",
   "execution_count": 27,
   "metadata": {
    "scrolled": false
   },
   "outputs": [
    {
     "data": {
      "text/html": [
       "<div>\n",
       "<style scoped>\n",
       "    .dataframe tbody tr th:only-of-type {\n",
       "        vertical-align: middle;\n",
       "    }\n",
       "\n",
       "    .dataframe tbody tr th {\n",
       "        vertical-align: top;\n",
       "    }\n",
       "\n",
       "    .dataframe thead th {\n",
       "        text-align: right;\n",
       "    }\n",
       "</style>\n",
       "<table border=\"1\" class=\"dataframe\">\n",
       "  <thead>\n",
       "    <tr style=\"text-align: right;\">\n",
       "      <th></th>\n",
       "      <th>Word</th>\n",
       "    </tr>\n",
       "  </thead>\n",
       "  <tbody>\n",
       "    <tr>\n",
       "      <th>0</th>\n",
       "      <td>environmental</td>\n",
       "    </tr>\n",
       "    <tr>\n",
       "      <th>1</th>\n",
       "      <td>glass</td>\n",
       "    </tr>\n",
       "    <tr>\n",
       "      <th>2</th>\n",
       "      <td>answer</td>\n",
       "    </tr>\n",
       "    <tr>\n",
       "      <th>3</th>\n",
       "      <td>skill</td>\n",
       "    </tr>\n",
       "    <tr>\n",
       "      <th>4</th>\n",
       "      <td>sister</td>\n",
       "    </tr>\n",
       "  </tbody>\n",
       "</table>\n",
       "</div>"
      ],
      "text/plain": [
       "            Word\n",
       "0  environmental\n",
       "1          glass\n",
       "2         answer\n",
       "3          skill\n",
       "4         sister"
      ]
     },
     "execution_count": 27,
     "metadata": {},
     "output_type": "execute_result"
    }
   ],
   "source": [
    "# Import the list as a pandas dataframe\n",
    "Words = pd.read_csv(ENGLISH_WORDS, names = ['Word'])\n",
    "Words.head()"
   ]
  },
  {
   "cell_type": "code",
   "execution_count": 29,
   "metadata": {
    "scrolled": false
   },
   "outputs": [
    {
     "data": {
      "text/html": [
       "<div>\n",
       "<style scoped>\n",
       "    .dataframe tbody tr th:only-of-type {\n",
       "        vertical-align: middle;\n",
       "    }\n",
       "\n",
       "    .dataframe tbody tr th {\n",
       "        vertical-align: top;\n",
       "    }\n",
       "\n",
       "    .dataframe thead th {\n",
       "        text-align: right;\n",
       "    }\n",
       "</style>\n",
       "<table border=\"1\" class=\"dataframe\">\n",
       "  <thead>\n",
       "    <tr style=\"text-align: right;\">\n",
       "      <th></th>\n",
       "      <th>Word</th>\n",
       "      <th>IPA_transcription</th>\n",
       "      <th>syllabic_cues</th>\n",
       "    </tr>\n",
       "  </thead>\n",
       "  <tbody>\n",
       "    <tr>\n",
       "      <th>0</th>\n",
       "      <td>environmental</td>\n",
       "      <td>ɪnvajɹənmɛntəl</td>\n",
       "      <td>#ɪnv_nvajɹ_ɹənm_nmɛnt_ntəl#</td>\n",
       "    </tr>\n",
       "    <tr>\n",
       "      <th>1</th>\n",
       "      <td>glass</td>\n",
       "      <td>ɡlæs</td>\n",
       "      <td>#ɡlæs#</td>\n",
       "    </tr>\n",
       "    <tr>\n",
       "      <th>2</th>\n",
       "      <td>answer</td>\n",
       "      <td>ænsəɹ</td>\n",
       "      <td>#æns_nsəɹ#</td>\n",
       "    </tr>\n",
       "    <tr>\n",
       "      <th>3</th>\n",
       "      <td>skill</td>\n",
       "      <td>skɪl</td>\n",
       "      <td>#skɪl#</td>\n",
       "    </tr>\n",
       "    <tr>\n",
       "      <th>4</th>\n",
       "      <td>sister</td>\n",
       "      <td>sɪstəɹ</td>\n",
       "      <td>#sɪst_stəɹ#</td>\n",
       "    </tr>\n",
       "    <tr>\n",
       "      <th>5</th>\n",
       "      <td>PM</td>\n",
       "      <td>piɛm</td>\n",
       "      <td>#pi_ɛm#</td>\n",
       "    </tr>\n",
       "    <tr>\n",
       "      <th>6</th>\n",
       "      <td>professor</td>\n",
       "      <td>pɹəfɛsəɹ</td>\n",
       "      <td>#pɹəf_fɛs_səɹ#</td>\n",
       "    </tr>\n",
       "    <tr>\n",
       "      <th>7</th>\n",
       "      <td>operation</td>\n",
       "      <td>ɑpəɹejʃən</td>\n",
       "      <td>#ɑp_pəɹ_ɹejʃ_ʃən#</td>\n",
       "    </tr>\n",
       "    <tr>\n",
       "      <th>8</th>\n",
       "      <td>financial</td>\n",
       "      <td>fənænʃəl</td>\n",
       "      <td>#fən_nænʃ_nʃəl#</td>\n",
       "    </tr>\n",
       "    <tr>\n",
       "      <th>9</th>\n",
       "      <td>crime</td>\n",
       "      <td>kɹajm</td>\n",
       "      <td>#kɹajm#</td>\n",
       "    </tr>\n",
       "    <tr>\n",
       "      <th>10</th>\n",
       "      <td>stage</td>\n",
       "      <td>stejd͡ʒ</td>\n",
       "      <td>#stejd͡ʒ#</td>\n",
       "    </tr>\n",
       "    <tr>\n",
       "      <th>11</th>\n",
       "      <td>ok</td>\n",
       "      <td>owkej</td>\n",
       "      <td>#owk_kej#</td>\n",
       "    </tr>\n",
       "    <tr>\n",
       "      <th>12</th>\n",
       "      <td>compare</td>\n",
       "      <td>kəmpɛɹ</td>\n",
       "      <td>#kəmp_mpɛɹ#</td>\n",
       "    </tr>\n",
       "    <tr>\n",
       "      <th>13</th>\n",
       "      <td>authority</td>\n",
       "      <td>əθɔɹəti</td>\n",
       "      <td>#əθ_θɔɹ_ɹət_ti#</td>\n",
       "    </tr>\n",
       "    <tr>\n",
       "      <th>14</th>\n",
       "      <td>miss</td>\n",
       "      <td>mɪs</td>\n",
       "      <td>#mɪs#</td>\n",
       "    </tr>\n",
       "    <tr>\n",
       "      <th>15</th>\n",
       "      <td>design</td>\n",
       "      <td>dɪzajn</td>\n",
       "      <td>#dɪz_zajn#</td>\n",
       "    </tr>\n",
       "    <tr>\n",
       "      <th>16</th>\n",
       "      <td>sort</td>\n",
       "      <td>sɔɹt</td>\n",
       "      <td>#sɔɹt#</td>\n",
       "    </tr>\n",
       "    <tr>\n",
       "      <th>17</th>\n",
       "      <td>one</td>\n",
       "      <td>wʌn</td>\n",
       "      <td>#wʌn#</td>\n",
       "    </tr>\n",
       "    <tr>\n",
       "      <th>18</th>\n",
       "      <td>ten</td>\n",
       "      <td>tɛn</td>\n",
       "      <td>#tɛn#</td>\n",
       "    </tr>\n",
       "    <tr>\n",
       "      <th>19</th>\n",
       "      <td>knowledge</td>\n",
       "      <td>nɑləd͡ʒ</td>\n",
       "      <td>#nɑl_ləd͡ʒ#</td>\n",
       "    </tr>\n",
       "  </tbody>\n",
       "</table>\n",
       "</div>"
      ],
      "text/plain": [
       "             Word IPA_transcription                syllabic_cues\n",
       "0   environmental    ɪnvajɹənmɛntəl  #ɪnv_nvajɹ_ɹənm_nmɛnt_ntəl#\n",
       "1           glass              ɡlæs                       #ɡlæs#\n",
       "2          answer             ænsəɹ                   #æns_nsəɹ#\n",
       "3           skill              skɪl                       #skɪl#\n",
       "4          sister            sɪstəɹ                  #sɪst_stəɹ#\n",
       "5              PM              piɛm                      #pi_ɛm#\n",
       "6       professor          pɹəfɛsəɹ               #pɹəf_fɛs_səɹ#\n",
       "7       operation         ɑpəɹejʃən            #ɑp_pəɹ_ɹejʃ_ʃən#\n",
       "8       financial          fənænʃəl              #fən_nænʃ_nʃəl#\n",
       "9           crime             kɹajm                      #kɹajm#\n",
       "10          stage           stejd͡ʒ                    #stejd͡ʒ#\n",
       "11             ok             owkej                    #owk_kej#\n",
       "12        compare            kəmpɛɹ                  #kəmp_mpɛɹ#\n",
       "13      authority           əθɔɹəti              #əθ_θɔɹ_ɹət_ti#\n",
       "14           miss               mɪs                        #mɪs#\n",
       "15         design            dɪzajn                   #dɪz_zajn#\n",
       "16           sort              sɔɹt                       #sɔɹt#\n",
       "17            one               wʌn                        #wʌn#\n",
       "18            ten               tɛn                        #tɛn#\n",
       "19      knowledge           nɑləd͡ʒ                  #nɑl_ləd͡ʒ#"
      ]
     },
     "execution_count": 29,
     "metadata": {},
     "output_type": "execute_result"
    }
   ],
   "source": [
    "# Apply it to the whole set\n",
    "Words['IPA_transcription'] = Words['Word'].apply(lambda x: sy.english_to_ipa(x))\n",
    "Words['syllabic_cues'] = Words['Word'].apply(lambda x: sy.syllabify(x, sy.english_to_ipa, syllable_pattern_en))\n",
    "# Display the resulting dataset\n",
    "Words"
   ]
  },
  {
   "cell_type": "markdown",
   "metadata": {},
   "source": [
    "## IV. Syllabification of a list of sentences "
   ]
  },
  {
   "cell_type": "markdown",
   "metadata": {},
   "source": [
    "### Test the function that syllabifies a sentence"
   ]
  },
  {
   "cell_type": "code",
   "execution_count": 9,
   "metadata": {},
   "outputs": [
    {
     "name": "stdout",
     "output_type": "stream",
     "text": [
      "- Sentence: Imagination is more important than knowledge\n",
      "- IPA transcription: ɪmæd͡ʒənejʃən ɪz mɔɹ ɪmpɔɹtənt ðæn nɑləd͡ʒ\n",
      "- Syllabic cues: ['#ɪm_mæd͡ʒ_d͡ʒən_nejʃ_ʃən#', '#ɪz#', '#mɔɹ#', '#ɪmp_mpɔɹt_ɹtənt#', '#ðæn#', '#nɑl_ləd͡ʒ#']\n",
      "\n"
     ]
    }
   ],
   "source": [
    "# Test 1 \n",
    "sent1 = \"Imagination is more important than knowledge\" \n",
    "s = '''- Sentence: {sent}\n",
    "- IPA transcription: {ipa}\n",
    "- Syllabic cues: {syl}\n",
    "'''.format(sent = sent1, \n",
    "           ipa = sy.english_to_ipa(sent1), \n",
    "           syl = sy.syllabify_line(line = sent1,\n",
    "                                   ipa_converter = sy.english_to_ipa, \n",
    "                                   syllable_pattern = syllable_pattern_en,\n",
    "                                   not_symbol_pattern = not_symbol_pattern_en,\n",
    "                                   add_boundaries = True,\n",
    "                                   as_event = False))\n",
    "print(s)"
   ]
  },
  {
   "cell_type": "code",
   "execution_count": 32,
   "metadata": {},
   "outputs": [
    {
     "name": "stdout",
     "output_type": "stream",
     "text": [
      "- Sentence: All models are wrong, but some are useful. \n",
      "- IPA transcription: ɔl mɑdəlz ɑɹ ɹɔŋ, bʌt sʌm ɑɹ jusfəl. \n",
      "- Syllabic cues: ('#ɔl#_#mɑd_dəlz#_#ɑɹ#_#ɹɔŋ#_#bʌt#_#sʌm#_#ɑɹ#_#jusf_sfəl#', 'all_models_are_wrong_but_some_are_useful')\n",
      "\n"
     ]
    }
   ],
   "source": [
    "# Test 2\n",
    "sent2 = \"All models are wrong, but some are useful. \"\n",
    "s = '''- Sentence: {sent}\n",
    "- IPA transcription: {ipa}\n",
    "- Syllabic cues: {syl}\n",
    "'''.format(sent = sent2, \n",
    "           ipa = sy.english_to_ipa(sent2), \n",
    "           syl = sy.syllabify_line(line = sent2,\n",
    "                                   ipa_converter = sy.english_to_ipa, \n",
    "                                   syllable_pattern = syllable_pattern_en,\n",
    "                                   not_symbol_pattern = not_symbol_pattern_en,\n",
    "                                   add_boundaries = True,\n",
    "                                   as_event = True))\n",
    "print(s)"
   ]
  },
  {
   "cell_type": "code",
   "execution_count": 33,
   "metadata": {
    "scrolled": false
   },
   "outputs": [
    {
     "name": "stdout",
     "output_type": "stream",
     "text": [
      "- Sentence: An approximate answer to the right problem is worth a good deal more than an exact answer to an approximate problem.\n",
      "- IPA transcription: æn əpɹɑksəmət ænsəɹ tə ðə ɹajt pɹɑbləm ɪz wəɹθ ə ɡʊd dil mɔɹ ðæn æn ɪɡzækt ænsəɹ tə æn əpɹɑksəmət pɹɑbləm.\n",
      "- Syllabic cues: ['#æn#', '#əpɹ_pɹɑks_ksəm_mət#', '#æns_nsəɹ#', '#tə#', '#ðə#', '#ɹajt#', '#pɹɑbl_bləm#', '#ɪz#', '#wəɹθ#', '#ə#', '#ɡʊd#', '#dil#', '#mɔɹ#', '#ðæn#', '#æn#', '#ɪɡz_ɡzækt#', '#æns_nsəɹ#', '#tə#', '#æn#', '#əpɹ_pɹɑks_ksəm_mət#', '#pɹɑbl_bləm#']\n",
      "\n"
     ]
    }
   ],
   "source": [
    "# Test 3\n",
    "sent3 = 'An approximate answer to the right problem is worth a good deal more than an exact answer to an approximate problem.'\n",
    "s = '''- Sentence: {sent}\n",
    "- IPA transcription: {ipa}\n",
    "- Syllabic cues: {syl}\n",
    "'''.format(sent = sent3, \n",
    "           ipa = sy.english_to_ipa(sent3), \n",
    "           syl = sy.syllabify_line(line = sent3,\n",
    "                                   ipa_converter = sy.english_to_ipa, \n",
    "                                   syllable_pattern = syllable_pattern_en,\n",
    "                                   not_symbol_pattern = not_symbol_pattern_en,\n",
    "                                   add_boundaries = True,\n",
    "                                   as_event = False))\n",
    "print(s)"
   ]
  },
  {
   "cell_type": "markdown",
   "metadata": {},
   "source": [
    "### Syllabify a set of English sentences"
   ]
  },
  {
   "cell_type": "code",
   "execution_count": 12,
   "metadata": {
    "scrolled": true
   },
   "outputs": [
    {
     "data": {
      "text/html": [
       "<div>\n",
       "<style scoped>\n",
       "    .dataframe tbody tr th:only-of-type {\n",
       "        vertical-align: middle;\n",
       "    }\n",
       "\n",
       "    .dataframe tbody tr th {\n",
       "        vertical-align: top;\n",
       "    }\n",
       "\n",
       "    .dataframe thead th {\n",
       "        text-align: right;\n",
       "    }\n",
       "</style>\n",
       "<table border=\"1\" class=\"dataframe\">\n",
       "  <thead>\n",
       "    <tr style=\"text-align: right;\">\n",
       "      <th></th>\n",
       "      <th>Sentence</th>\n",
       "    </tr>\n",
       "  </thead>\n",
       "  <tbody>\n",
       "    <tr>\n",
       "      <th>0</th>\n",
       "      <td>what is aids?</td>\n",
       "    </tr>\n",
       "    <tr>\n",
       "      <th>1</th>\n",
       "      <td>how is infection transmitted?</td>\n",
       "    </tr>\n",
       "    <tr>\n",
       "      <th>2</th>\n",
       "      <td>the medical aspects can be cancer, pneumonia, sudden blindness, dementia, dramatic weight loss o...</td>\n",
       "    </tr>\n",
       "    <tr>\n",
       "      <th>3</th>\n",
       "      <td>often infected people are rejected by family and friends, leaving them to face this chronic cond...</td>\n",
       "    </tr>\n",
       "    <tr>\n",
       "      <th>4</th>\n",
       "      <td>did you know?</td>\n",
       "    </tr>\n",
       "  </tbody>\n",
       "</table>\n",
       "</div>"
      ],
      "text/plain": [
       "                                                                                              Sentence\n",
       "0                                                                                        what is aids?\n",
       "1                                                                        how is infection transmitted?\n",
       "2  the medical aspects can be cancer, pneumonia, sudden blindness, dementia, dramatic weight loss o...\n",
       "3  often infected people are rejected by family and friends, leaving them to face this chronic cond...\n",
       "4                                                                                        did you know?"
      ]
     },
     "execution_count": 12,
     "metadata": {},
     "output_type": "execute_result"
    }
   ],
   "source": [
    "# Import the list as a pandas dataframe\n",
    "Sentences = pd.read_csv(ENGLISH_SENTS)\n",
    "Sentences.head()"
   ]
  },
  {
   "cell_type": "code",
   "execution_count": 13,
   "metadata": {},
   "outputs": [
    {
     "data": {
      "text/html": [
       "<div>\n",
       "<style scoped>\n",
       "    .dataframe tbody tr th:only-of-type {\n",
       "        vertical-align: middle;\n",
       "    }\n",
       "\n",
       "    .dataframe tbody tr th {\n",
       "        vertical-align: top;\n",
       "    }\n",
       "\n",
       "    .dataframe thead th {\n",
       "        text-align: right;\n",
       "    }\n",
       "</style>\n",
       "<table border=\"1\" class=\"dataframe\">\n",
       "  <thead>\n",
       "    <tr style=\"text-align: right;\">\n",
       "      <th></th>\n",
       "      <th>Sentence</th>\n",
       "      <th>IPA_transcription</th>\n",
       "      <th>syllabic_cues</th>\n",
       "    </tr>\n",
       "  </thead>\n",
       "  <tbody>\n",
       "    <tr>\n",
       "      <th>0</th>\n",
       "      <td>what is aids?</td>\n",
       "      <td>wʌt ɪz ejdz?</td>\n",
       "      <td>[#wʌt#, #ɪz#, #ejdz#]</td>\n",
       "    </tr>\n",
       "    <tr>\n",
       "      <th>1</th>\n",
       "      <td>how is infection transmitted?</td>\n",
       "      <td>haw ɪz ɪnfɛkʃən tɹænsmɪtɪd?</td>\n",
       "      <td>[#haw#, #ɪz#, #ɪnf_nfɛkʃ_kʃən#, #tɹænsm_nsmɪt_tɪd#]</td>\n",
       "    </tr>\n",
       "    <tr>\n",
       "      <th>2</th>\n",
       "      <td>the medical aspects can be cancer, pneumonia, sudden blindness, dementia, dramatic weight loss o...</td>\n",
       "      <td>ðə mɛdəkəl æspɛkts kæn bi kænsəɹ, numownjə, sʌdən blajndnəs, dɪmɛnʃiə, dɹəmætɪk wejt lɔs ɔɹ ɛni ...</td>\n",
       "      <td>[#ðə#, #mɛd_dək_kəl#, #æsp_spɛkts#, #kæn#, #bi#, #kæns_nsəɹ#, #num_mownj_njə#, #sʌd_dən#, #blajn...</td>\n",
       "    </tr>\n",
       "    <tr>\n",
       "      <th>3</th>\n",
       "      <td>often infected people are rejected by family and friends, leaving them to face this chronic cond...</td>\n",
       "      <td>ɔfən ɪnfɛktəd pipəl ɑɹ ɹɪd͡ʒɛktɪd baj fæməli ænd fɹɛndz, livɪŋ ðɛm tə fejs ðɪs kɹɑnɪk kəndɪʃən ə...</td>\n",
       "      <td>[#ɔf_fən#, #ɪnf_nfɛkt_ktəd#, #pip_pəl#, #ɑɹ#, #ɹɪd͡ʒ_d͡ʒɛkt_ktɪd#, #baj#, #fæm_məl_li#, #ænd#, #...</td>\n",
       "    </tr>\n",
       "    <tr>\n",
       "      <th>4</th>\n",
       "      <td>did you know?</td>\n",
       "      <td>dɪd ju now?</td>\n",
       "      <td>[#dɪd#, #ju#, #now#]</td>\n",
       "    </tr>\n",
       "    <tr>\n",
       "      <th>5</th>\n",
       "      <td>there is no vaccine or cure currently available.</td>\n",
       "      <td>ðɛɹ ɪz now væksin ɔɹ kjʊɹ kəɹəntli əvejləbəl.</td>\n",
       "      <td>[#ðɛɹ#, #ɪz#, #now#, #væks_ksin#, #ɔɹ#, #kjʊɹ#, #kəɹ_ɹəntl_ntli#, #əv_vejl_ləb_bəl#]</td>\n",
       "    </tr>\n",
       "    <tr>\n",
       "      <th>6</th>\n",
       "      <td>women are twice as at risk from infection as men.</td>\n",
       "      <td>wɪmən ɑɹ twajs æz æt ɹɪsk fɹʌm ɪnfɛkʃən æz mɛn.</td>\n",
       "      <td>[#wɪm_mən#, #ɑɹ#, #twajs#, #æz#, #æt#, #ɹɪsk#, #fɹʌm#, #ɪnf_nfɛkʃ_kʃən#, #æz#, #mɛn#]</td>\n",
       "    </tr>\n",
       "    <tr>\n",
       "      <th>7</th>\n",
       "      <td>the major impact is yet to come.</td>\n",
       "      <td>ðə mejd͡ʒəɹ ɪmpækt ɪz jɛt tə kʌm.</td>\n",
       "      <td>[#ðə#, #mejd͡ʒ_d͡ʒəɹ#, #ɪmp_mpækt#, #ɪz#, #jɛt#, #tə#, #kʌm#]</td>\n",
       "    </tr>\n",
       "    <tr>\n",
       "      <th>8</th>\n",
       "      <td>raising money for your favourite charity can be fun.</td>\n",
       "      <td>ɹejzɪŋ mʌni fɔɹ jɔɹ fejvəɹɪt t͡ʃɛɹɪti kæn bi fʌn.</td>\n",
       "      <td>[#ɹejz_zɪŋ#, #mʌn_ni#, #fɔɹ#, #jɔɹ#, #fejv_vəɹ_ɹɪt#, #t͡ʃɛɹ_ɹɪt_ti#, #kæn#, #bi#, #fʌn#]</td>\n",
       "    </tr>\n",
       "    <tr>\n",
       "      <th>9</th>\n",
       "      <td>you can do it on your own or you can get together with family and friends.</td>\n",
       "      <td>ju kæn du ɪt ɑn jɔɹ own ɔɹ ju kæn ɡɛt təɡɛðəɹ wɪð fæməli ænd fɹɛndz.</td>\n",
       "      <td>[#ju#, #kæn#, #du#, #ɪt#, #ɑn#, #jɔɹ#, #own#, #ɔɹ#, #ju#, #kæn#, #ɡɛt#, #təɡ_ɡɛð_ðəɹ#, #wɪð#, #f...</td>\n",
       "    </tr>\n",
       "    <tr>\n",
       "      <th>10</th>\n",
       "      <td>there is no limit to the number of ways to raise money.</td>\n",
       "      <td>ðɛɹ ɪz now lɪmət tə ðə nʌmbəɹ ʌv wejz tə ɹejz mʌni.</td>\n",
       "      <td>[#ðɛɹ#, #ɪz#, #now#, #lɪm_mət#, #tə#, #ðə#, #nʌmb_mbəɹ#, #ʌv#, #wejz#, #tə#, #ɹejz#, #mʌn_ni#]</td>\n",
       "    </tr>\n",
       "    <tr>\n",
       "      <th>11</th>\n",
       "      <td>none of them is new and they are all straightforward.</td>\n",
       "      <td>nʌn ʌv ðɛm ɪz nu ænd ðej ɑɹ ɔl stɹejtfɔɹwəɹd.</td>\n",
       "      <td>[#nʌn#, #ʌv#, #ðɛm#, #ɪz#, #nu#, #ænd#, #ðej#, #ɑɹ#, #ɔl#, #stɹejtf_tfɔɹw_ɹwəɹd#]</td>\n",
       "    </tr>\n",
       "    <tr>\n",
       "      <th>12</th>\n",
       "      <td>i did and i was absolutely amazed at how much stuff i sold and the kind of things people bought.</td>\n",
       "      <td>aj dɪd ænd aj wɑz æbsəlutli əmejzd æt haw mʌt͡ʃ stʌf aj sowld ænd ðə kajnd ʌv θɪŋz pipəl bɑt.</td>\n",
       "      <td>[#aj#, #dɪd#, #ænd#, #aj#, #wɑz#, #æbs_bsəl_lutl_tli#, #əm_mejzd#, #æt#, #haw#, #mʌt͡ʃ#, #stʌf#,...</td>\n",
       "    </tr>\n",
       "    <tr>\n",
       "      <th>13</th>\n",
       "      <td>it can be fun as well.</td>\n",
       "      <td>ɪt kæn bi fʌn æz wɛl.</td>\n",
       "      <td>[#ɪt#, #kæn#, #bi#, #fʌn#, #æz#, #wɛl#]</td>\n",
       "    </tr>\n",
       "    <tr>\n",
       "      <th>14</th>\n",
       "      <td>you need to involve your friends collecting jumble.</td>\n",
       "      <td>ju nid tə ɪnvɑlv jɔɹ fɹɛndz kəlɛktɪŋ d͡ʒʌmbəl.</td>\n",
       "      <td>[#ju#, #nid#, #tə#, #ɪnv_nvɑlv#, #jɔɹ#, #fɹɛndz#, #kəl_lɛkt_ktɪŋ#, #d͡ʒʌmb_mbəl#]</td>\n",
       "    </tr>\n",
       "    <tr>\n",
       "      <th>15</th>\n",
       "      <td>hold a coffee morning or bake cakes to sell to work colleagues.</td>\n",
       "      <td>howld ə kɑfi mɔɹnɪŋ ɔɹ bejk kejks tə sɛl tə wəɹk kɑliɡz.</td>\n",
       "      <td>[#howld#, #ə#, #kɑf_fi#, #mɔɹn_ɹnɪŋ#, #ɔɹ#, #bejk#, #kejks#, #tə#, #sɛl#, #tə#, #wəɹk#, #kɑl_liɡz#]</td>\n",
       "    </tr>\n",
       "    <tr>\n",
       "      <th>16</th>\n",
       "      <td>organise a sponsored walk or ramble for your church or youth club.</td>\n",
       "      <td>ɔɹɡənəs ə spɑnsəɹd wɔk ɔɹ ɹæmbəl fɔɹ jɔɹ t͡ʃəɹt͡ʃ ɔɹ juθ klʌb.</td>\n",
       "      <td>[#ɔɹɡ_ɹɡən_nəs#, #ə#, #spɑns_nsəɹd#, #wɔk#, #ɔɹ#, #ɹæmb_mbəl#, #fɔɹ#, #jɔɹ#, #t͡ʃəɹt͡ʃ#, #ɔɹ#, #...</td>\n",
       "    </tr>\n",
       "    <tr>\n",
       "      <th>17</th>\n",
       "      <td>what do acet volunteers do?</td>\n",
       "      <td>wʌt du əsɛt vɑləntɪɹz du?</td>\n",
       "      <td>[#wʌt#, #du#, #əs_sɛt#, #vɑl_lənt_ntɪɹz#, #du#]</td>\n",
       "    </tr>\n",
       "    <tr>\n",
       "      <th>18</th>\n",
       "      <td>the simple answer is as much or as little as you feel able to give.</td>\n",
       "      <td>ðə sɪmpəl ænsəɹ ɪz æz mʌt͡ʃ ɔɹ æz lɪtəl æz ju fil ejbəl tə ɡɪv.</td>\n",
       "      <td>[#ðə#, #sɪmp_mpəl#, #æns_nsəɹ#, #ɪz#, #æz#, #mʌt͡ʃ#, #ɔɹ#, #æz#, #lɪt_təl#, #æz#, #ju#, #fil#, #...</td>\n",
       "    </tr>\n",
       "    <tr>\n",
       "      <th>19</th>\n",
       "      <td>many of our existing volunteers have families and jobs and are often very busy.</td>\n",
       "      <td>mɛni ʌv awəɹ ɪɡzɪstɪŋ vɑləntɪɹz hæv fæməliz ænd d͡ʒɑbz ænd ɑɹ ɔfən vɛɹi bɪzi.</td>\n",
       "      <td>[#mɛn_ni#, #ʌv#, #aw_əɹ#, #ɪɡz_ɡzɪst_stɪŋ#, #vɑl_lənt_ntɪɹz#, #hæv#, #fæm_məl_liz#, #ænd#, #d͡ʒɑ...</td>\n",
       "    </tr>\n",
       "  </tbody>\n",
       "</table>\n",
       "</div>"
      ],
      "text/plain": [
       "                                                                                               Sentence  \\\n",
       "0                                                                                         what is aids?   \n",
       "1                                                                         how is infection transmitted?   \n",
       "2   the medical aspects can be cancer, pneumonia, sudden blindness, dementia, dramatic weight loss o...   \n",
       "3   often infected people are rejected by family and friends, leaving them to face this chronic cond...   \n",
       "4                                                                                         did you know?   \n",
       "5                                                      there is no vaccine or cure currently available.   \n",
       "6                                                     women are twice as at risk from infection as men.   \n",
       "7                                                                      the major impact is yet to come.   \n",
       "8                                                  raising money for your favourite charity can be fun.   \n",
       "9                            you can do it on your own or you can get together with family and friends.   \n",
       "10                                              there is no limit to the number of ways to raise money.   \n",
       "11                                                none of them is new and they are all straightforward.   \n",
       "12     i did and i was absolutely amazed at how much stuff i sold and the kind of things people bought.   \n",
       "13                                                                               it can be fun as well.   \n",
       "14                                                  you need to involve your friends collecting jumble.   \n",
       "15                                      hold a coffee morning or bake cakes to sell to work colleagues.   \n",
       "16                                   organise a sponsored walk or ramble for your church or youth club.   \n",
       "17                                                                          what do acet volunteers do?   \n",
       "18                                  the simple answer is as much or as little as you feel able to give.   \n",
       "19                      many of our existing volunteers have families and jobs and are often very busy.   \n",
       "\n",
       "                                                                                      IPA_transcription  \\\n",
       "0                                                                                          wʌt ɪz ejdz?   \n",
       "1                                                                           haw ɪz ɪnfɛkʃən tɹænsmɪtɪd?   \n",
       "2   ðə mɛdəkəl æspɛkts kæn bi kænsəɹ, numownjə, sʌdən blajndnəs, dɪmɛnʃiə, dɹəmætɪk wejt lɔs ɔɹ ɛni ...   \n",
       "3   ɔfən ɪnfɛktəd pipəl ɑɹ ɹɪd͡ʒɛktɪd baj fæməli ænd fɹɛndz, livɪŋ ðɛm tə fejs ðɪs kɹɑnɪk kəndɪʃən ə...   \n",
       "4                                                                                           dɪd ju now?   \n",
       "5                                                         ðɛɹ ɪz now væksin ɔɹ kjʊɹ kəɹəntli əvejləbəl.   \n",
       "6                                                       wɪmən ɑɹ twajs æz æt ɹɪsk fɹʌm ɪnfɛkʃən æz mɛn.   \n",
       "7                                                                     ðə mejd͡ʒəɹ ɪmpækt ɪz jɛt tə kʌm.   \n",
       "8                                                     ɹejzɪŋ mʌni fɔɹ jɔɹ fejvəɹɪt t͡ʃɛɹɪti kæn bi fʌn.   \n",
       "9                                  ju kæn du ɪt ɑn jɔɹ own ɔɹ ju kæn ɡɛt təɡɛðəɹ wɪð fæməli ænd fɹɛndz.   \n",
       "10                                                  ðɛɹ ɪz now lɪmət tə ðə nʌmbəɹ ʌv wejz tə ɹejz mʌni.   \n",
       "11                                                        nʌn ʌv ðɛm ɪz nu ænd ðej ɑɹ ɔl stɹejtfɔɹwəɹd.   \n",
       "12        aj dɪd ænd aj wɑz æbsəlutli əmejzd æt haw mʌt͡ʃ stʌf aj sowld ænd ðə kajnd ʌv θɪŋz pipəl bɑt.   \n",
       "13                                                                                ɪt kæn bi fʌn æz wɛl.   \n",
       "14                                                       ju nid tə ɪnvɑlv jɔɹ fɹɛndz kəlɛktɪŋ d͡ʒʌmbəl.   \n",
       "15                                             howld ə kɑfi mɔɹnɪŋ ɔɹ bejk kejks tə sɛl tə wəɹk kɑliɡz.   \n",
       "16                                       ɔɹɡənəs ə spɑnsəɹd wɔk ɔɹ ɹæmbəl fɔɹ jɔɹ t͡ʃəɹt͡ʃ ɔɹ juθ klʌb.   \n",
       "17                                                                            wʌt du əsɛt vɑləntɪɹz du?   \n",
       "18                                      ðə sɪmpəl ænsəɹ ɪz æz mʌt͡ʃ ɔɹ æz lɪtəl æz ju fil ejbəl tə ɡɪv.   \n",
       "19                        mɛni ʌv awəɹ ɪɡzɪstɪŋ vɑləntɪɹz hæv fæməliz ænd d͡ʒɑbz ænd ɑɹ ɔfən vɛɹi bɪzi.   \n",
       "\n",
       "                                                                                          syllabic_cues  \n",
       "0                                                                                 [#wʌt#, #ɪz#, #ejdz#]  \n",
       "1                                                   [#haw#, #ɪz#, #ɪnf_nfɛkʃ_kʃən#, #tɹænsm_nsmɪt_tɪd#]  \n",
       "2   [#ðə#, #mɛd_dək_kəl#, #æsp_spɛkts#, #kæn#, #bi#, #kæns_nsəɹ#, #num_mownj_njə#, #sʌd_dən#, #blajn...  \n",
       "3   [#ɔf_fən#, #ɪnf_nfɛkt_ktəd#, #pip_pəl#, #ɑɹ#, #ɹɪd͡ʒ_d͡ʒɛkt_ktɪd#, #baj#, #fæm_məl_li#, #ænd#, #...  \n",
       "4                                                                                  [#dɪd#, #ju#, #now#]  \n",
       "5                  [#ðɛɹ#, #ɪz#, #now#, #væks_ksin#, #ɔɹ#, #kjʊɹ#, #kəɹ_ɹəntl_ntli#, #əv_vejl_ləb_bəl#]  \n",
       "6                 [#wɪm_mən#, #ɑɹ#, #twajs#, #æz#, #æt#, #ɹɪsk#, #fɹʌm#, #ɪnf_nfɛkʃ_kʃən#, #æz#, #mɛn#]  \n",
       "7                                         [#ðə#, #mejd͡ʒ_d͡ʒəɹ#, #ɪmp_mpækt#, #ɪz#, #jɛt#, #tə#, #kʌm#]  \n",
       "8              [#ɹejz_zɪŋ#, #mʌn_ni#, #fɔɹ#, #jɔɹ#, #fejv_vəɹ_ɹɪt#, #t͡ʃɛɹ_ɹɪt_ti#, #kæn#, #bi#, #fʌn#]  \n",
       "9   [#ju#, #kæn#, #du#, #ɪt#, #ɑn#, #jɔɹ#, #own#, #ɔɹ#, #ju#, #kæn#, #ɡɛt#, #təɡ_ɡɛð_ðəɹ#, #wɪð#, #f...  \n",
       "10       [#ðɛɹ#, #ɪz#, #now#, #lɪm_mət#, #tə#, #ðə#, #nʌmb_mbəɹ#, #ʌv#, #wejz#, #tə#, #ɹejz#, #mʌn_ni#]  \n",
       "11                    [#nʌn#, #ʌv#, #ðɛm#, #ɪz#, #nu#, #ænd#, #ðej#, #ɑɹ#, #ɔl#, #stɹejtf_tfɔɹw_ɹwəɹd#]  \n",
       "12  [#aj#, #dɪd#, #ænd#, #aj#, #wɑz#, #æbs_bsəl_lutl_tli#, #əm_mejzd#, #æt#, #haw#, #mʌt͡ʃ#, #stʌf#,...  \n",
       "13                                                              [#ɪt#, #kæn#, #bi#, #fʌn#, #æz#, #wɛl#]  \n",
       "14                    [#ju#, #nid#, #tə#, #ɪnv_nvɑlv#, #jɔɹ#, #fɹɛndz#, #kəl_lɛkt_ktɪŋ#, #d͡ʒʌmb_mbəl#]  \n",
       "15  [#howld#, #ə#, #kɑf_fi#, #mɔɹn_ɹnɪŋ#, #ɔɹ#, #bejk#, #kejks#, #tə#, #sɛl#, #tə#, #wəɹk#, #kɑl_liɡz#]  \n",
       "16  [#ɔɹɡ_ɹɡən_nəs#, #ə#, #spɑns_nsəɹd#, #wɔk#, #ɔɹ#, #ɹæmb_mbəl#, #fɔɹ#, #jɔɹ#, #t͡ʃəɹt͡ʃ#, #ɔɹ#, #...  \n",
       "17                                                      [#wʌt#, #du#, #əs_sɛt#, #vɑl_lənt_ntɪɹz#, #du#]  \n",
       "18  [#ðə#, #sɪmp_mpəl#, #æns_nsəɹ#, #ɪz#, #æz#, #mʌt͡ʃ#, #ɔɹ#, #æz#, #lɪt_təl#, #æz#, #ju#, #fil#, #...  \n",
       "19  [#mɛn_ni#, #ʌv#, #aw_əɹ#, #ɪɡz_ɡzɪst_stɪŋ#, #vɑl_lənt_ntɪɹz#, #hæv#, #fæm_məl_liz#, #ænd#, #d͡ʒɑ...  "
      ]
     },
     "execution_count": 13,
     "metadata": {},
     "output_type": "execute_result"
    }
   ],
   "source": [
    "# Apply it to the whole set\n",
    "Sentences['IPA_transcription'] = Sentences['Sentence'].apply(lambda x: sy.english_to_ipa(x))\n",
    "Sentences['syllabic_cues'] = Sentences['Sentence'].apply(lambda x: sy.syllabify_line(x, \n",
    "                                                                                     sy.english_to_ipa, \n",
    "                                                                                     syllable_pattern_en,\n",
    "                                                                                     not_symbol_pattern_en,\n",
    "                                                                                     add_boundaries = True,\n",
    "                                                                                     as_event = False))\n",
    "# Display the resulting dataset\n",
    "Sentences[:20]"
   ]
  },
  {
   "cell_type": "markdown",
   "metadata": {},
   "source": [
    "## V. Creating event files with syllabic cues from an English corpus"
   ]
  },
  {
   "cell_type": "markdown",
   "metadata": {},
   "source": [
    "### Check the corpus"
   ]
  },
  {
   "cell_type": "code",
   "execution_count": 4,
   "metadata": {
    "scrolled": true
   },
   "outputs": [
    {
     "name": "stdout",
     "output_type": "stream",
     "text": [
      "what is aids?\n",
      "\n",
      "how is infection transmitted?\n",
      "\n",
      "\"the medical aspects can be cancer, pneumonia, sudden blindness, dementia, dramatic weight loss or any combination of these.\"\n",
      "\n",
      "\"often infected people are rejected by family and friends, leaving them to face this chronic condition alone.\"\n",
      "\n",
      "did you know?\n",
      "\n",
      "there is no vaccine or cure currently available.\n",
      "\n",
      "women are twice as at risk from infection as men.\n",
      "\n",
      "the major impact is yet to come.\n",
      "\n",
      "raising money for your favourite charity can be fun.\n",
      "\n"
     ]
    }
   ],
   "source": [
    "### Check the corpus\n",
    "with open(CORPUS_EN) as c:\n",
    "    for x in range(9):\n",
    "        print(next(c))"
   ]
  },
  {
   "cell_type": "markdown",
   "metadata": {},
   "source": [
    "### Run the syllabifier"
   ]
  },
  {
   "cell_type": "code",
   "execution_count": 5,
   "metadata": {
    "scrolled": true
   },
   "outputs": [
    {
     "name": "stdout",
     "output_type": "stream",
     "text": [
      "All processed in 0.14 minutes!tes\n"
     ]
    }
   ],
   "source": [
    "# Generate the S2L event file (will also produce the corresponding L2L event file)\n",
    "sy.syllabify_corpus(corpus_path = CORPUS_EN,\n",
    "                    event_file_path = S2L_EVENTS_EN,\n",
    "                    ipa_converter = sy.english_to_ipa,\n",
    "                    syllable_pattern = syllable_pattern_en,\n",
    "                    not_symbol_pattern = not_symbol_pattern_en,\n",
    "                    add_boundaries = True,\n",
    "                    numcores = 8,\n",
    "                    chunksize = 125)"
   ]
  },
  {
   "cell_type": "markdown",
   "metadata": {},
   "source": [
    "### Check the event file with syllabic cues"
   ]
  },
  {
   "cell_type": "code",
   "execution_count": 10,
   "metadata": {},
   "outputs": [
    {
     "name": "stdout",
     "output_type": "stream",
     "text": [
      "#wʌt#_#ɪz#_#ejdz#\twhat_is_aids\n",
      "\n",
      "#haw#_#ɪz#_#ɪnf_nfɛkʃ_kʃən#_#tɹænsm_nsmɪt_tɪd#\thow_is_infection_transmitted\n",
      "\n",
      "#ðə#_#mɛd_dək_kəl#_#æsp_spɛkts#_#kæn#_#bi#_#kæns_nsəɹ#_#num_mownj_njə#_#sʌd_dən#_#blajndn_ndnəs#_#dɪm_mɛnʃ_nʃi_ə#_#dɹəm_mæt_tɪk#_#wejt#_#lɔs#_#ɔɹ#_#ɛn_ni#_#kɑmb_mbən_nejʃ_ʃən#_#ʌv#_#ðiz#\tthe_medical_aspects_can_be_cancer_pneumonia_sudden_blindness_dementia_dramatic_weight_loss_or_any_combination_of_these\n",
      "\n",
      "#ɔf_fən#_#ɪnf_nfɛkt_ktəd#_#pip_pəl#_#ɑɹ#_#ɹɪd͡ʒ_d͡ʒɛkt_ktɪd#_#baj#_#fæm_məl_li#_#ænd#_#fɹɛndz#_#liv_vɪŋ#_#ðɛm#_#tə#_#fejs#_#ðɪs#_#kɹɑn_nɪk#_#kənd_ndɪʃ_ʃən#_#əl_lown#\toften_infected_people_are_rejected_by_family_and_friends_leaving_them_to_face_this_chronic_condition_alone\n",
      "\n",
      "#dɪd#_#ju#_#now#\tdid_you_know\n",
      "\n",
      "#ðɛɹ#_#ɪz#_#now#_#væks_ksin#_#ɔɹ#_#kjʊɹ#_#kəɹ_ɹəntl_ntli#_#əv_vejl_ləb_bəl#\tthere_is_no_vaccine_or_cure_currently_available\n",
      "\n",
      "#wɪm_mən#_#ɑɹ#_#twajs#_#æz#_#æt#_#ɹɪsk#_#fɹʌm#_#ɪnf_nfɛkʃ_kʃən#_#æz#_#mɛn#\twomen_are_twice_as_at_risk_from_infection_as_men\n",
      "\n",
      "#ðə#_#mejd͡ʒ_d͡ʒəɹ#_#ɪmp_mpækt#_#ɪz#_#jɛt#_#tə#_#kʌm#\tthe_major_impact_is_yet_to_come\n",
      "\n",
      "#ɹejz_zɪŋ#_#mʌn_ni#_#fɔɹ#_#jɔɹ#_#fejv_vəɹ_ɹɪt#_#t͡ʃɛɹ_ɹɪt_ti#_#kæn#_#bi#_#fʌn#\traising_money_for_your_favourite_charity_can_be_fun\n",
      "\n",
      "#ju#_#kæn#_#du#_#ɪt#_#ɑn#_#jɔɹ#_#own#_#ɔɹ#_#ju#_#kæn#_#ɡɛt#_#təɡ_ɡɛð_ðəɹ#_#wɪð#_#fæm_məl_li#_#ænd#_#fɹɛndz#\tyou_can_do_it_on_your_own_or_you_can_get_together_with_family_and_friends\n",
      "\n"
     ]
    }
   ],
   "source": [
    "### Print the first 10 lines from the S2L event file \n",
    "with gzip.open(S2L_EVENTS_EN, 'rt', encoding='utf-8') as e:   \n",
    "    for x in range(10):\n",
    "        print(next(e))"
   ]
  }
 ],
 "metadata": {
  "kernelspec": {
   "display_name": "Python 3",
   "language": "python",
   "name": "python3"
  },
  "language_info": {
   "codemirror_mode": {
    "name": "ipython",
    "version": 3
   },
   "file_extension": ".py",
   "mimetype": "text/x-python",
   "name": "python",
   "nbconvert_exporter": "python",
   "pygments_lexer": "ipython3",
   "version": "3.7.2"
  }
 },
 "nbformat": 4,
 "nbformat_minor": 2
}
